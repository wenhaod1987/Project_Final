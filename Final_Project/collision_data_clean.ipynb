{
 "cells": [
  {
   "cell_type": "code",
   "execution_count": 1,
   "metadata": {},
   "outputs": [],
   "source": [
    "import pandas as pd\n",
    "import datetime"
   ]
  },
  {
   "cell_type": "code",
   "execution_count": 2,
   "metadata": {},
   "outputs": [
    {
     "data": {
      "text/html": [
       "<div>\n",
       "<style scoped>\n",
       "    .dataframe tbody tr th:only-of-type {\n",
       "        vertical-align: middle;\n",
       "    }\n",
       "\n",
       "    .dataframe tbody tr th {\n",
       "        vertical-align: top;\n",
       "    }\n",
       "\n",
       "    .dataframe thead th {\n",
       "        text-align: right;\n",
       "    }\n",
       "</style>\n",
       "<table border=\"1\" class=\"dataframe\">\n",
       "  <thead>\n",
       "    <tr style=\"text-align: right;\">\n",
       "      <th></th>\n",
       "      <th>Date Occurred</th>\n",
       "      <th>Time Occurred</th>\n",
       "      <th>Victim Age</th>\n",
       "      <th>Victim Sex</th>\n",
       "      <th>Location</th>\n",
       "    </tr>\n",
       "  </thead>\n",
       "  <tbody>\n",
       "    <tr>\n",
       "      <th>0</th>\n",
       "      <td>11/04/2010</td>\n",
       "      <td>1345</td>\n",
       "      <td>20.0</td>\n",
       "      <td>F</td>\n",
       "      <td>(34.0348, -118.2362)</td>\n",
       "    </tr>\n",
       "    <tr>\n",
       "      <th>1</th>\n",
       "      <td>08/10/2010</td>\n",
       "      <td>1900</td>\n",
       "      <td>31.0</td>\n",
       "      <td>F</td>\n",
       "      <td>(33.9932, -118.3203)</td>\n",
       "    </tr>\n",
       "    <tr>\n",
       "      <th>2</th>\n",
       "      <td>06/09/2010</td>\n",
       "      <td>1925</td>\n",
       "      <td>40.0</td>\n",
       "      <td>F</td>\n",
       "      <td>(33.9599, -118.3805)</td>\n",
       "    </tr>\n",
       "    <tr>\n",
       "      <th>3</th>\n",
       "      <td>04/06/2010</td>\n",
       "      <td>1445</td>\n",
       "      <td>51.0</td>\n",
       "      <td>M</td>\n",
       "      <td>(34.1585, -118.5633)</td>\n",
       "    </tr>\n",
       "    <tr>\n",
       "      <th>4</th>\n",
       "      <td>05/23/2010</td>\n",
       "      <td>1805</td>\n",
       "      <td>32.0</td>\n",
       "      <td>F</td>\n",
       "      <td>(34.0055, -118.2948)</td>\n",
       "    </tr>\n",
       "  </tbody>\n",
       "</table>\n",
       "</div>"
      ],
      "text/plain": [
       "  Date Occurred  Time Occurred  Victim Age Victim Sex              Location\n",
       "0    11/04/2010           1345        20.0          F  (34.0348, -118.2362)\n",
       "1    08/10/2010           1900        31.0          F  (33.9932, -118.3203)\n",
       "2    06/09/2010           1925        40.0          F  (33.9599, -118.3805)\n",
       "3    04/06/2010           1445        51.0          M  (34.1585, -118.5633)\n",
       "4    05/23/2010           1805        32.0          F  (34.0055, -118.2948)"
      ]
     },
     "execution_count": 2,
     "metadata": {},
     "output_type": "execute_result"
    }
   ],
   "source": [
    "file_path_coll = \"Data/Traffic_Collision_Data_from_2010_to_Present.csv\"\n",
    "file_read = pd.DataFrame(pd.read_csv(file_path_coll))\n",
    "collision_df = file_read[[\"Date Occurred\",\"Time Occurred\",\"Victim Age\",\"Victim Sex\",\"Location\"]]\n",
    "collision_df.head()"
   ]
  },
  {
   "cell_type": "code",
   "execution_count": 3,
   "metadata": {},
   "outputs": [],
   "source": [
    "collision_df.to_csv(\"Data/collision_data.csv\", encoding='utf-8', index=False)"
   ]
  },
  {
   "cell_type": "code",
   "execution_count": null,
   "metadata": {},
   "outputs": [],
   "source": []
  }
 ],
 "metadata": {
  "kernelspec": {
   "display_name": "Python [conda env:DanielData]",
   "language": "python",
   "name": "conda-env-DanielData-py"
  },
  "language_info": {
   "codemirror_mode": {
    "name": "ipython",
    "version": 3
   },
   "file_extension": ".py",
   "mimetype": "text/x-python",
   "name": "python",
   "nbconvert_exporter": "python",
   "pygments_lexer": "ipython3",
   "version": "3.6.5"
  }
 },
 "nbformat": 4,
 "nbformat_minor": 2
}
