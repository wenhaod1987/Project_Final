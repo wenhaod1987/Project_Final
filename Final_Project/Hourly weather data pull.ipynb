{
 "cells": [
  {
   "cell_type": "code",
   "execution_count": 1,
   "metadata": {},
   "outputs": [],
   "source": [
    "# Set dependencies\n",
    "from config import apikey\n",
    "import requests\n",
    "import json\n",
    "from datetime import datetime\n",
    "import pandas as pd\n",
    "\n",
    "#set api url and variables\n",
    "url = \"https://api.darksky.net/forecast/\"\n",
    "latitude = 34.0348\n",
    "longitude = -118.2362\n"
   ]
  },
  {
   "cell_type": "code",
   "execution_count": 2,
   "metadata": {},
   "outputs": [],
   "source": [
    "#set lists\n",
    "date_list = []\n",
    "year_list = []\n",
    "hour_list = []\n",
    "high_list = []\n",
    "rain_list = []\n",
    "date_hour_ls = []\n"
   ]
  },
  {
   "cell_type": "code",
   "execution_count": 3,
   "metadata": {
    "scrolled": true
   },
   "outputs": [],
   "source": [
    "\n",
    "for x in range(0,900):\n",
    "    time = (1546290000 - (x * 86400)) \n",
    "    \n",
    "    # Calls API on latitude, longitude, and time\n",
    "    response = requests.get(f\"https://api.darksky.net/forecast/{apikey}/{latitude},{longitude},{time}\")\n",
    "    data = response.json()\n",
    "    for y in range (0,len(data['hourly']['data'])):\n",
    "        # Pulls Hourly Temperature, daily rain, and date & hour\n",
    "        try:\n",
    "            high_list.append(data['hourly']['data'][y]['temperature'])\n",
    "        except:\n",
    "            high_list.append(\"NA\")      \n",
    "        try:\n",
    "            rain_list.append(data['hourly']['data'][y]['precipIntensity'] * 5)\n",
    "        except:\n",
    "            rain_list.append(0)\n",
    "        \n",
    "\n",
    "        unix = data['hourly']['data'][y]['time']-28800\n",
    "        date = datetime.utcfromtimestamp(unix).strftime('%Y-%m-%d')\n",
    "        hour = datetime.utcfromtimestamp(unix).strftime('%H')\n",
    "        year = datetime.utcfromtimestamp(unix).strftime('%Y')\n",
    "        date_hour = datetime.utcfromtimestamp(unix).strftime('%Y-%m-%d-%H')\n",
    "        date_list.append(date)\n",
    "        hour_list.append(hour)\n",
    "        date_hour_ls.append(date_hour)\n",
    "        year_list.append(year)\n",
    "    "
   ]
  },
  {
   "cell_type": "code",
   "execution_count": 4,
   "metadata": {},
   "outputs": [
    {
     "name": "stdout",
     "output_type": "stream",
     "text": [
      "21599\n",
      "21599\n",
      "21599\n",
      "21599\n",
      "21599\n",
      "21599\n"
     ]
    }
   ],
   "source": [
    "print(len(date_list))\n",
    "print(len(hour_list))\n",
    "print(len(high_list))\n",
    "print(len(rain_list))\n",
    "print(len(date_hour_ls))\n",
    "print(len(year_list))"
   ]
  },
  {
   "cell_type": "code",
   "execution_count": 6,
   "metadata": {},
   "outputs": [
    {
     "data": {
      "text/plain": [
       "1386716400"
      ]
     },
     "execution_count": 6,
     "metadata": {},
     "output_type": "execute_result"
    }
   ],
   "source": [
    "unix"
   ]
  },
  {
   "cell_type": "code",
   "execution_count": 9,
   "metadata": {
    "scrolled": true
   },
   "outputs": [
    {
     "data": {
      "text/plain": [
       "Date                21071\n",
       "Hour                21071\n",
       "Temperature         21071\n",
       "PrecipIntensity     21071\n",
       "Date_Hour           21071\n",
       "Year                21071\n",
       "dtype: int64"
      ]
     },
     "execution_count": 9,
     "metadata": {},
     "output_type": "execute_result"
    }
   ],
   "source": [
    "weather_df = pd.DataFrame({\"Date\": date_list,\n",
    "               \"Hour\":hour_list,\n",
    "               \"Temperature\": high_list,\n",
    "               \"PrecipIntensity\": rain_list,\n",
    "               \"Date_Hour\": date_hour_ls,\n",
    "               \"Year\":year_list })\n",
    "\n",
    "            \n",
    "weather_df = weather_df[weather_df[\"Year\"]!=\"2013\"]\n",
    "weather_df.count()"
   ]
  },
  {
   "cell_type": "code",
   "execution_count": 10,
   "metadata": {},
   "outputs": [],
   "source": [
    "weather_df.to_csv(\"Data/hourly_weather_2.csv\", encoding='utf-8', index=False)"
   ]
  },
  {
   "cell_type": "code",
   "execution_count": null,
   "metadata": {},
   "outputs": [],
   "source": []
  }
 ],
 "metadata": {
  "kernelspec": {
   "display_name": "Python [conda env:DanielData]",
   "language": "python",
   "name": "conda-env-DanielData-py"
  },
  "language_info": {
   "codemirror_mode": {
    "name": "ipython",
    "version": 3
   },
   "file_extension": ".py",
   "mimetype": "text/x-python",
   "name": "python",
   "nbconvert_exporter": "python",
   "pygments_lexer": "ipython3",
   "version": "3.6.5"
  }
 },
 "nbformat": 4,
 "nbformat_minor": 2
}
