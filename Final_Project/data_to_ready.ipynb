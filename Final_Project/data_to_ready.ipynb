{
 "cells": [
  {
   "cell_type": "code",
   "execution_count": 29,
   "metadata": {},
   "outputs": [],
   "source": [
    "import pandas as pd\n",
    "import datetime"
   ]
  },
  {
   "cell_type": "code",
   "execution_count": 27,
   "metadata": {},
   "outputs": [],
   "source": [
    "weather_data_df1 = pd.DataFrame(pd.read_csv(\"Data/weather_date_06092016.csv\"))\n",
    "weather_data_df2 = pd.DataFrame(pd.read_csv(\"Data/weather_date_06082016.csv\"))\n"
   ]
  },
  {
   "cell_type": "code",
   "execution_count": 28,
   "metadata": {
    "scrolled": true
   },
   "outputs": [
    {
     "data": {
      "text/html": [
       "<div>\n",
       "<style scoped>\n",
       "    .dataframe tbody tr th:only-of-type {\n",
       "        vertical-align: middle;\n",
       "    }\n",
       "\n",
       "    .dataframe tbody tr th {\n",
       "        vertical-align: top;\n",
       "    }\n",
       "\n",
       "    .dataframe thead th {\n",
       "        text-align: right;\n",
       "    }\n",
       "</style>\n",
       "<table border=\"1\" class=\"dataframe\">\n",
       "  <thead>\n",
       "    <tr style=\"text-align: right;\">\n",
       "      <th></th>\n",
       "      <th>Date</th>\n",
       "      <th>Temp High</th>\n",
       "      <th>Temp Low</th>\n",
       "      <th>Precipitation</th>\n",
       "    </tr>\n",
       "  </thead>\n",
       "  <tbody>\n",
       "    <tr>\n",
       "      <th>0</th>\n",
       "      <td>12/31/2018</td>\n",
       "      <td>60.80</td>\n",
       "      <td>48.30</td>\n",
       "      <td>0.0</td>\n",
       "    </tr>\n",
       "    <tr>\n",
       "      <th>1</th>\n",
       "      <td>12/30/2018</td>\n",
       "      <td>63.63</td>\n",
       "      <td>46.17</td>\n",
       "      <td>0.0</td>\n",
       "    </tr>\n",
       "    <tr>\n",
       "      <th>2</th>\n",
       "      <td>12/29/2018</td>\n",
       "      <td>61.63</td>\n",
       "      <td>43.24</td>\n",
       "      <td>0.0</td>\n",
       "    </tr>\n",
       "    <tr>\n",
       "      <th>3</th>\n",
       "      <td>12/28/2018</td>\n",
       "      <td>59.48</td>\n",
       "      <td>48.88</td>\n",
       "      <td>0.0</td>\n",
       "    </tr>\n",
       "    <tr>\n",
       "      <th>4</th>\n",
       "      <td>12/27/2018</td>\n",
       "      <td>62.71</td>\n",
       "      <td>49.58</td>\n",
       "      <td>0.0</td>\n",
       "    </tr>\n",
       "  </tbody>\n",
       "</table>\n",
       "</div>"
      ],
      "text/plain": [
       "         Date  Temp High  Temp Low  Precipitation\n",
       "0  12/31/2018      60.80     48.30            0.0\n",
       "1  12/30/2018      63.63     46.17            0.0\n",
       "2  12/29/2018      61.63     43.24            0.0\n",
       "3  12/28/2018      59.48     48.88            0.0\n",
       "4  12/27/2018      62.71     49.58            0.0"
      ]
     },
     "execution_count": 28,
     "metadata": {},
     "output_type": "execute_result"
    }
   ],
   "source": [
    "weather_data_df1.head()"
   ]
  },
  {
   "cell_type": "code",
   "execution_count": 29,
   "metadata": {},
   "outputs": [],
   "source": [
    "full_date = []\n",
    "for date in weather_data_df1[\"Date\"]:\n",
    "    date= datetime.datetime.strptime(date,'%m/%d/%Y')\n",
    "    full_date.append(f\"{date.year}-{date.month}-{date.day}\")\n"
   ]
  },
  {
   "cell_type": "code",
   "execution_count": 30,
   "metadata": {},
   "outputs": [
    {
     "data": {
      "text/html": [
       "<div>\n",
       "<style scoped>\n",
       "    .dataframe tbody tr th:only-of-type {\n",
       "        vertical-align: middle;\n",
       "    }\n",
       "\n",
       "    .dataframe tbody tr th {\n",
       "        vertical-align: top;\n",
       "    }\n",
       "\n",
       "    .dataframe thead th {\n",
       "        text-align: right;\n",
       "    }\n",
       "</style>\n",
       "<table border=\"1\" class=\"dataframe\">\n",
       "  <thead>\n",
       "    <tr style=\"text-align: right;\">\n",
       "      <th></th>\n",
       "      <th>Date</th>\n",
       "      <th>Temp High</th>\n",
       "      <th>Temp Low</th>\n",
       "      <th>Precipitation</th>\n",
       "    </tr>\n",
       "  </thead>\n",
       "  <tbody>\n",
       "    <tr>\n",
       "      <th>0</th>\n",
       "      <td>2018-12-31</td>\n",
       "      <td>60.80</td>\n",
       "      <td>48.30</td>\n",
       "      <td>0.0</td>\n",
       "    </tr>\n",
       "    <tr>\n",
       "      <th>1</th>\n",
       "      <td>2018-12-30</td>\n",
       "      <td>63.63</td>\n",
       "      <td>46.17</td>\n",
       "      <td>0.0</td>\n",
       "    </tr>\n",
       "    <tr>\n",
       "      <th>2</th>\n",
       "      <td>2018-12-29</td>\n",
       "      <td>61.63</td>\n",
       "      <td>43.24</td>\n",
       "      <td>0.0</td>\n",
       "    </tr>\n",
       "    <tr>\n",
       "      <th>3</th>\n",
       "      <td>2018-12-28</td>\n",
       "      <td>59.48</td>\n",
       "      <td>48.88</td>\n",
       "      <td>0.0</td>\n",
       "    </tr>\n",
       "    <tr>\n",
       "      <th>4</th>\n",
       "      <td>2018-12-27</td>\n",
       "      <td>62.71</td>\n",
       "      <td>49.58</td>\n",
       "      <td>0.0</td>\n",
       "    </tr>\n",
       "  </tbody>\n",
       "</table>\n",
       "</div>"
      ],
      "text/plain": [
       "        Date  Temp High  Temp Low  Precipitation\n",
       "0 2018-12-31      60.80     48.30            0.0\n",
       "1 2018-12-30      63.63     46.17            0.0\n",
       "2 2018-12-29      61.63     43.24            0.0\n",
       "3 2018-12-28      59.48     48.88            0.0\n",
       "4 2018-12-27      62.71     49.58            0.0"
      ]
     },
     "execution_count": 30,
     "metadata": {},
     "output_type": "execute_result"
    }
   ],
   "source": [
    "weather_data_df1[\"Date\"]=full_date\n",
    "weather_data_df1[\"Date\"] = pd.to_datetime(weather_data_df1[\"Date\"])\n",
    "weather_data_df1.head()"
   ]
  },
  {
   "cell_type": "code",
   "execution_count": 31,
   "metadata": {},
   "outputs": [
    {
     "data": {
      "text/html": [
       "<div>\n",
       "<style scoped>\n",
       "    .dataframe tbody tr th:only-of-type {\n",
       "        vertical-align: middle;\n",
       "    }\n",
       "\n",
       "    .dataframe tbody tr th {\n",
       "        vertical-align: top;\n",
       "    }\n",
       "\n",
       "    .dataframe thead th {\n",
       "        text-align: right;\n",
       "    }\n",
       "</style>\n",
       "<table border=\"1\" class=\"dataframe\">\n",
       "  <thead>\n",
       "    <tr style=\"text-align: right;\">\n",
       "      <th></th>\n",
       "      <th>Date</th>\n",
       "      <th>Temp High</th>\n",
       "      <th>Temp Low</th>\n",
       "      <th>Precipitation</th>\n",
       "    </tr>\n",
       "  </thead>\n",
       "  <tbody>\n",
       "    <tr>\n",
       "      <th>0</th>\n",
       "      <td>6/8/2016</td>\n",
       "      <td>79.15</td>\n",
       "      <td>61.19</td>\n",
       "      <td>0.0</td>\n",
       "    </tr>\n",
       "    <tr>\n",
       "      <th>1</th>\n",
       "      <td>6/7/2016</td>\n",
       "      <td>77.49</td>\n",
       "      <td>60.94</td>\n",
       "      <td>0.0</td>\n",
       "    </tr>\n",
       "    <tr>\n",
       "      <th>2</th>\n",
       "      <td>6/6/2016</td>\n",
       "      <td>76.29</td>\n",
       "      <td>59.32</td>\n",
       "      <td>0.0</td>\n",
       "    </tr>\n",
       "    <tr>\n",
       "      <th>3</th>\n",
       "      <td>6/5/2016</td>\n",
       "      <td>76.93</td>\n",
       "      <td>59.68</td>\n",
       "      <td>0.0</td>\n",
       "    </tr>\n",
       "    <tr>\n",
       "      <th>4</th>\n",
       "      <td>6/4/2016</td>\n",
       "      <td>85.08</td>\n",
       "      <td>63.24</td>\n",
       "      <td>0.0</td>\n",
       "    </tr>\n",
       "  </tbody>\n",
       "</table>\n",
       "</div>"
      ],
      "text/plain": [
       "       Date  Temp High  Temp Low  Precipitation\n",
       "0  6/8/2016      79.15     61.19            0.0\n",
       "1  6/7/2016      77.49     60.94            0.0\n",
       "2  6/6/2016      76.29     59.32            0.0\n",
       "3  6/5/2016      76.93     59.68            0.0\n",
       "4  6/4/2016      85.08     63.24            0.0"
      ]
     },
     "execution_count": 31,
     "metadata": {},
     "output_type": "execute_result"
    }
   ],
   "source": [
    "weather_data_df2.head()"
   ]
  },
  {
   "cell_type": "code",
   "execution_count": 32,
   "metadata": {},
   "outputs": [
    {
     "data": {
      "text/html": [
       "<div>\n",
       "<style scoped>\n",
       "    .dataframe tbody tr th:only-of-type {\n",
       "        vertical-align: middle;\n",
       "    }\n",
       "\n",
       "    .dataframe tbody tr th {\n",
       "        vertical-align: top;\n",
       "    }\n",
       "\n",
       "    .dataframe thead th {\n",
       "        text-align: right;\n",
       "    }\n",
       "</style>\n",
       "<table border=\"1\" class=\"dataframe\">\n",
       "  <thead>\n",
       "    <tr style=\"text-align: right;\">\n",
       "      <th></th>\n",
       "      <th>Date</th>\n",
       "      <th>Temp High</th>\n",
       "      <th>Temp Low</th>\n",
       "      <th>Precipitation</th>\n",
       "    </tr>\n",
       "  </thead>\n",
       "  <tbody>\n",
       "    <tr>\n",
       "      <th>0</th>\n",
       "      <td>2016-06-08</td>\n",
       "      <td>79.15</td>\n",
       "      <td>61.19</td>\n",
       "      <td>0.0</td>\n",
       "    </tr>\n",
       "    <tr>\n",
       "      <th>1</th>\n",
       "      <td>2016-06-07</td>\n",
       "      <td>77.49</td>\n",
       "      <td>60.94</td>\n",
       "      <td>0.0</td>\n",
       "    </tr>\n",
       "    <tr>\n",
       "      <th>2</th>\n",
       "      <td>2016-06-06</td>\n",
       "      <td>76.29</td>\n",
       "      <td>59.32</td>\n",
       "      <td>0.0</td>\n",
       "    </tr>\n",
       "    <tr>\n",
       "      <th>3</th>\n",
       "      <td>2016-06-05</td>\n",
       "      <td>76.93</td>\n",
       "      <td>59.68</td>\n",
       "      <td>0.0</td>\n",
       "    </tr>\n",
       "    <tr>\n",
       "      <th>4</th>\n",
       "      <td>2016-06-04</td>\n",
       "      <td>85.08</td>\n",
       "      <td>63.24</td>\n",
       "      <td>0.0</td>\n",
       "    </tr>\n",
       "  </tbody>\n",
       "</table>\n",
       "</div>"
      ],
      "text/plain": [
       "        Date  Temp High  Temp Low  Precipitation\n",
       "0 2016-06-08      79.15     61.19            0.0\n",
       "1 2016-06-07      77.49     60.94            0.0\n",
       "2 2016-06-06      76.29     59.32            0.0\n",
       "3 2016-06-05      76.93     59.68            0.0\n",
       "4 2016-06-04      85.08     63.24            0.0"
      ]
     },
     "execution_count": 32,
     "metadata": {},
     "output_type": "execute_result"
    }
   ],
   "source": [
    "full_date_2 = []\n",
    "for date in weather_data_df2[\"Date\"]:\n",
    "    date= datetime.datetime.strptime(date,'%m/%d/%Y')\n",
    "    full_date_2.append(f\"{date.year}-{date.month}-{date.day}\")\n",
    "weather_data_df2[\"Date\"]=full_date_2\n",
    "weather_data_df2[\"Date\"] = pd.to_datetime(weather_data_df2[\"Date\"])\n",
    "weather_data_df2.head()"
   ]
  },
  {
   "cell_type": "code",
   "execution_count": 33,
   "metadata": {},
   "outputs": [],
   "source": [
    "weather_data = pd.concat([weather_data_df1,weather_data_df2])\n"
   ]
  },
  {
   "cell_type": "code",
   "execution_count": 34,
   "metadata": {},
   "outputs": [
    {
     "data": {
      "text/html": [
       "<div>\n",
       "<style scoped>\n",
       "    .dataframe tbody tr th:only-of-type {\n",
       "        vertical-align: middle;\n",
       "    }\n",
       "\n",
       "    .dataframe tbody tr th {\n",
       "        vertical-align: top;\n",
       "    }\n",
       "\n",
       "    .dataframe thead th {\n",
       "        text-align: right;\n",
       "    }\n",
       "</style>\n",
       "<table border=\"1\" class=\"dataframe\">\n",
       "  <thead>\n",
       "    <tr style=\"text-align: right;\">\n",
       "      <th></th>\n",
       "      <th>Date</th>\n",
       "      <th>Temp High</th>\n",
       "      <th>Temp Low</th>\n",
       "      <th>Precipitation</th>\n",
       "      <th>Year</th>\n",
       "    </tr>\n",
       "  </thead>\n",
       "  <tbody>\n",
       "    <tr>\n",
       "      <th>0</th>\n",
       "      <td>2018-12-31</td>\n",
       "      <td>60.80</td>\n",
       "      <td>48.30</td>\n",
       "      <td>0.0</td>\n",
       "      <td>2018</td>\n",
       "    </tr>\n",
       "    <tr>\n",
       "      <th>1</th>\n",
       "      <td>2018-12-30</td>\n",
       "      <td>63.63</td>\n",
       "      <td>46.17</td>\n",
       "      <td>0.0</td>\n",
       "      <td>2018</td>\n",
       "    </tr>\n",
       "    <tr>\n",
       "      <th>2</th>\n",
       "      <td>2018-12-29</td>\n",
       "      <td>61.63</td>\n",
       "      <td>43.24</td>\n",
       "      <td>0.0</td>\n",
       "      <td>2018</td>\n",
       "    </tr>\n",
       "    <tr>\n",
       "      <th>3</th>\n",
       "      <td>2018-12-28</td>\n",
       "      <td>59.48</td>\n",
       "      <td>48.88</td>\n",
       "      <td>0.0</td>\n",
       "      <td>2018</td>\n",
       "    </tr>\n",
       "    <tr>\n",
       "      <th>4</th>\n",
       "      <td>2018-12-27</td>\n",
       "      <td>62.71</td>\n",
       "      <td>49.58</td>\n",
       "      <td>0.0</td>\n",
       "      <td>2018</td>\n",
       "    </tr>\n",
       "  </tbody>\n",
       "</table>\n",
       "</div>"
      ],
      "text/plain": [
       "        Date  Temp High  Temp Low  Precipitation  Year\n",
       "0 2018-12-31      60.80     48.30            0.0  2018\n",
       "1 2018-12-30      63.63     46.17            0.0  2018\n",
       "2 2018-12-29      61.63     43.24            0.0  2018\n",
       "3 2018-12-28      59.48     48.88            0.0  2018\n",
       "4 2018-12-27      62.71     49.58            0.0  2018"
      ]
     },
     "execution_count": 34,
     "metadata": {},
     "output_type": "execute_result"
    }
   ],
   "source": [
    "# full_date_3=[]\n",
    "weather_year = []\n",
    "for date in weather_data[\"Date\"]:\n",
    "#     date= datetime.datetime.strptime(date,'%Y-%m-%d')\n",
    "    weather_year.append(date.year)\n",
    "#     full_date_3.append(f\"{date.year}-{date.month}-{date.day}\")\n",
    "weather_data[\"Year\"]=pd.to_numeric(weather_year)\n",
    "# weather_data[\"Date\"]=full_date_3\n",
    "weather_data.head()"
   ]
  },
  {
   "cell_type": "code",
   "execution_count": 35,
   "metadata": {},
   "outputs": [],
   "source": [
    "weather_final_data_df = weather_data[weather_data[\"Year\"]>2013]"
   ]
  },
  {
   "cell_type": "code",
   "execution_count": 36,
   "metadata": {},
   "outputs": [
    {
     "data": {
      "text/html": [
       "<div>\n",
       "<style scoped>\n",
       "    .dataframe tbody tr th:only-of-type {\n",
       "        vertical-align: middle;\n",
       "    }\n",
       "\n",
       "    .dataframe tbody tr th {\n",
       "        vertical-align: top;\n",
       "    }\n",
       "\n",
       "    .dataframe thead th {\n",
       "        text-align: right;\n",
       "    }\n",
       "</style>\n",
       "<table border=\"1\" class=\"dataframe\">\n",
       "  <thead>\n",
       "    <tr style=\"text-align: right;\">\n",
       "      <th></th>\n",
       "      <th>Date</th>\n",
       "      <th>Temp High</th>\n",
       "      <th>Temp Low</th>\n",
       "      <th>Precipitation</th>\n",
       "      <th>Year</th>\n",
       "    </tr>\n",
       "  </thead>\n",
       "  <tbody>\n",
       "    <tr>\n",
       "      <th>0</th>\n",
       "      <td>2014-01-01</td>\n",
       "      <td>72.06</td>\n",
       "      <td>49.34</td>\n",
       "      <td>0.000</td>\n",
       "      <td>2014</td>\n",
       "    </tr>\n",
       "    <tr>\n",
       "      <th>1</th>\n",
       "      <td>2014-01-02</td>\n",
       "      <td>79.27</td>\n",
       "      <td>53.65</td>\n",
       "      <td>0.000</td>\n",
       "      <td>2014</td>\n",
       "    </tr>\n",
       "    <tr>\n",
       "      <th>2</th>\n",
       "      <td>2014-01-03</td>\n",
       "      <td>71.57</td>\n",
       "      <td>52.39</td>\n",
       "      <td>0.002</td>\n",
       "      <td>2014</td>\n",
       "    </tr>\n",
       "    <tr>\n",
       "      <th>3</th>\n",
       "      <td>2014-01-04</td>\n",
       "      <td>69.33</td>\n",
       "      <td>51.60</td>\n",
       "      <td>0.000</td>\n",
       "      <td>2014</td>\n",
       "    </tr>\n",
       "    <tr>\n",
       "      <th>4</th>\n",
       "      <td>2014-01-05</td>\n",
       "      <td>76.42</td>\n",
       "      <td>50.85</td>\n",
       "      <td>0.001</td>\n",
       "      <td>2014</td>\n",
       "    </tr>\n",
       "  </tbody>\n",
       "</table>\n",
       "</div>"
      ],
      "text/plain": [
       "        Date  Temp High  Temp Low  Precipitation  Year\n",
       "0 2014-01-01      72.06     49.34          0.000  2014\n",
       "1 2014-01-02      79.27     53.65          0.000  2014\n",
       "2 2014-01-03      71.57     52.39          0.002  2014\n",
       "3 2014-01-04      69.33     51.60          0.000  2014\n",
       "4 2014-01-05      76.42     50.85          0.001  2014"
      ]
     },
     "execution_count": 36,
     "metadata": {},
     "output_type": "execute_result"
    }
   ],
   "source": [
    "weather_final_data_df=weather_final_data_df.sort_values(by=\"Date\")\n",
    "weather_final_data_df=weather_final_data_df.reset_index(drop=True)\n",
    "weather_final_data_df.head()"
   ]
  },
  {
   "cell_type": "code",
   "execution_count": 38,
   "metadata": {},
   "outputs": [
    {
     "data": {
      "text/html": [
       "<div>\n",
       "<style scoped>\n",
       "    .dataframe tbody tr th:only-of-type {\n",
       "        vertical-align: middle;\n",
       "    }\n",
       "\n",
       "    .dataframe tbody tr th {\n",
       "        vertical-align: top;\n",
       "    }\n",
       "\n",
       "    .dataframe thead th {\n",
       "        text-align: right;\n",
       "    }\n",
       "</style>\n",
       "<table border=\"1\" class=\"dataframe\">\n",
       "  <thead>\n",
       "    <tr style=\"text-align: right;\">\n",
       "      <th></th>\n",
       "      <th>Date</th>\n",
       "      <th>Temp High</th>\n",
       "      <th>Temp Low</th>\n",
       "      <th>Precipitation</th>\n",
       "      <th>Year</th>\n",
       "    </tr>\n",
       "  </thead>\n",
       "  <tbody>\n",
       "    <tr>\n",
       "      <th>0</th>\n",
       "      <td>2014-1-1</td>\n",
       "      <td>72.06</td>\n",
       "      <td>49.34</td>\n",
       "      <td>0.000</td>\n",
       "      <td>2014</td>\n",
       "    </tr>\n",
       "    <tr>\n",
       "      <th>1</th>\n",
       "      <td>2014-1-2</td>\n",
       "      <td>79.27</td>\n",
       "      <td>53.65</td>\n",
       "      <td>0.000</td>\n",
       "      <td>2014</td>\n",
       "    </tr>\n",
       "    <tr>\n",
       "      <th>2</th>\n",
       "      <td>2014-1-3</td>\n",
       "      <td>71.57</td>\n",
       "      <td>52.39</td>\n",
       "      <td>0.002</td>\n",
       "      <td>2014</td>\n",
       "    </tr>\n",
       "    <tr>\n",
       "      <th>3</th>\n",
       "      <td>2014-1-4</td>\n",
       "      <td>69.33</td>\n",
       "      <td>51.60</td>\n",
       "      <td>0.000</td>\n",
       "      <td>2014</td>\n",
       "    </tr>\n",
       "    <tr>\n",
       "      <th>4</th>\n",
       "      <td>2014-1-5</td>\n",
       "      <td>76.42</td>\n",
       "      <td>50.85</td>\n",
       "      <td>0.001</td>\n",
       "      <td>2014</td>\n",
       "    </tr>\n",
       "  </tbody>\n",
       "</table>\n",
       "</div>"
      ],
      "text/plain": [
       "       Date  Temp High  Temp Low  Precipitation  Year\n",
       "0  2014-1-1      72.06     49.34          0.000  2014\n",
       "1  2014-1-2      79.27     53.65          0.000  2014\n",
       "2  2014-1-3      71.57     52.39          0.002  2014\n",
       "3  2014-1-4      69.33     51.60          0.000  2014\n",
       "4  2014-1-5      76.42     50.85          0.001  2014"
      ]
     },
     "execution_count": 38,
     "metadata": {},
     "output_type": "execute_result"
    }
   ],
   "source": [
    "full_date_3=[]\n",
    "for date in weather_final_data_df[\"Date\"]:\n",
    "\n",
    "    full_date_3.append(f\"{date.year}-{date.month}-{date.day}\")\n",
    "\n",
    "weather_final_data_df[\"Date\"]=full_date_3\n",
    "weather_final_data_df.head()\n"
   ]
  },
  {
   "cell_type": "code",
   "execution_count": 39,
   "metadata": {},
   "outputs": [
    {
     "data": {
      "text/plain": [
       "Date             1826\n",
       "Temp High        1826\n",
       "Temp Low         1826\n",
       "Precipitation    1826\n",
       "Year             1826\n",
       "dtype: int64"
      ]
     },
     "execution_count": 39,
     "metadata": {},
     "output_type": "execute_result"
    }
   ],
   "source": [
    "weather_final_data_df.count()"
   ]
  },
  {
   "cell_type": "code",
   "execution_count": 40,
   "metadata": {},
   "outputs": [],
   "source": [
    "weather_final_data_df.to_csv(\"Data/weather_2014to2018.csv\", encoding='utf-8', index=False)"
   ]
  },
  {
   "cell_type": "code",
   "execution_count": 41,
   "metadata": {},
   "outputs": [],
   "source": [
    "collision_data = pd.DataFrame(pd.read_csv(\"Data/collision_data.csv\"))\n"
   ]
  },
  {
   "cell_type": "code",
   "execution_count": 42,
   "metadata": {},
   "outputs": [
    {
     "data": {
      "text/html": [
       "<div>\n",
       "<style scoped>\n",
       "    .dataframe tbody tr th:only-of-type {\n",
       "        vertical-align: middle;\n",
       "    }\n",
       "\n",
       "    .dataframe tbody tr th {\n",
       "        vertical-align: top;\n",
       "    }\n",
       "\n",
       "    .dataframe thead th {\n",
       "        text-align: right;\n",
       "    }\n",
       "</style>\n",
       "<table border=\"1\" class=\"dataframe\">\n",
       "  <thead>\n",
       "    <tr style=\"text-align: right;\">\n",
       "      <th></th>\n",
       "      <th>Date Occurred</th>\n",
       "      <th>Time Occurred</th>\n",
       "      <th>Victim Age</th>\n",
       "      <th>Victim Sex</th>\n",
       "      <th>Location</th>\n",
       "    </tr>\n",
       "  </thead>\n",
       "  <tbody>\n",
       "    <tr>\n",
       "      <th>0</th>\n",
       "      <td>11/04/2010</td>\n",
       "      <td>1345</td>\n",
       "      <td>20.0</td>\n",
       "      <td>F</td>\n",
       "      <td>(34.0348, -118.2362)</td>\n",
       "    </tr>\n",
       "    <tr>\n",
       "      <th>1</th>\n",
       "      <td>08/10/2010</td>\n",
       "      <td>1900</td>\n",
       "      <td>31.0</td>\n",
       "      <td>F</td>\n",
       "      <td>(33.9932, -118.3203)</td>\n",
       "    </tr>\n",
       "    <tr>\n",
       "      <th>2</th>\n",
       "      <td>06/09/2010</td>\n",
       "      <td>1925</td>\n",
       "      <td>40.0</td>\n",
       "      <td>F</td>\n",
       "      <td>(33.9599, -118.3805)</td>\n",
       "    </tr>\n",
       "    <tr>\n",
       "      <th>3</th>\n",
       "      <td>04/06/2010</td>\n",
       "      <td>1445</td>\n",
       "      <td>51.0</td>\n",
       "      <td>M</td>\n",
       "      <td>(34.1585, -118.5633)</td>\n",
       "    </tr>\n",
       "    <tr>\n",
       "      <th>4</th>\n",
       "      <td>05/23/2010</td>\n",
       "      <td>1805</td>\n",
       "      <td>32.0</td>\n",
       "      <td>F</td>\n",
       "      <td>(34.0055, -118.2948)</td>\n",
       "    </tr>\n",
       "  </tbody>\n",
       "</table>\n",
       "</div>"
      ],
      "text/plain": [
       "  Date Occurred  Time Occurred  Victim Age Victim Sex              Location\n",
       "0    11/04/2010           1345        20.0          F  (34.0348, -118.2362)\n",
       "1    08/10/2010           1900        31.0          F  (33.9932, -118.3203)\n",
       "2    06/09/2010           1925        40.0          F  (33.9599, -118.3805)\n",
       "3    04/06/2010           1445        51.0          M  (34.1585, -118.5633)\n",
       "4    05/23/2010           1805        32.0          F  (34.0055, -118.2948)"
      ]
     },
     "execution_count": 42,
     "metadata": {},
     "output_type": "execute_result"
    }
   ],
   "source": [
    "collision_data.head()"
   ]
  },
  {
   "cell_type": "code",
   "execution_count": 43,
   "metadata": {},
   "outputs": [
    {
     "name": "stderr",
     "output_type": "stream",
     "text": [
      "C:\\Users\\danie\\Anaconda3\\envs\\DanielData\\lib\\site-packages\\ipykernel\\__main__.py:12: UserWarning: Boolean Series key will be reindexed to match DataFrame index.\n"
     ]
    }
   ],
   "source": [
    "date_ls = []\n",
    "year_ls=[]\n",
    "for date in collision_data[\"Date Occurred\"]:\n",
    "    date= datetime.datetime.strptime(date,'%m/%d/%Y')\n",
    "    date_ls.append(f\"{date.year}-{date.month}-{date.day}\")\n",
    "    year_ls.append(date.year)\n",
    "\n",
    "collision_data[\"Date\"]=date_ls\n",
    "collision_data[\"Year\"]=pd.to_numeric(year_ls)\n",
    "collision_data=collision_data[[\"Date\",\"Time Occurred\",\"Victim Age\",\"Victim Sex\",\"Location\",\"Year\"]]\n",
    "collision_final_data = collision_data[collision_data[\"Year\"]>2013]\n",
    "collision_final_data = collision_final_data[collision_data[\"Year\"]<2019]"
   ]
  },
  {
   "cell_type": "code",
   "execution_count": 44,
   "metadata": {
    "scrolled": true
   },
   "outputs": [
    {
     "data": {
      "text/html": [
       "<div>\n",
       "<style scoped>\n",
       "    .dataframe tbody tr th:only-of-type {\n",
       "        vertical-align: middle;\n",
       "    }\n",
       "\n",
       "    .dataframe tbody tr th {\n",
       "        vertical-align: top;\n",
       "    }\n",
       "\n",
       "    .dataframe thead th {\n",
       "        text-align: right;\n",
       "    }\n",
       "</style>\n",
       "<table border=\"1\" class=\"dataframe\">\n",
       "  <thead>\n",
       "    <tr style=\"text-align: right;\">\n",
       "      <th></th>\n",
       "      <th>Date</th>\n",
       "      <th>Time Occurred</th>\n",
       "      <th>Victim Age</th>\n",
       "      <th>Victim Sex</th>\n",
       "      <th>Location</th>\n",
       "      <th>Year</th>\n",
       "    </tr>\n",
       "  </thead>\n",
       "  <tbody>\n",
       "    <tr>\n",
       "      <th>0</th>\n",
       "      <td>2014-5-15</td>\n",
       "      <td>1315</td>\n",
       "      <td>20.0</td>\n",
       "      <td>M</td>\n",
       "      <td>(34.0509, -118.2605)</td>\n",
       "      <td>2014</td>\n",
       "    </tr>\n",
       "    <tr>\n",
       "      <th>1</th>\n",
       "      <td>2014-8-2</td>\n",
       "      <td>1210</td>\n",
       "      <td>51.0</td>\n",
       "      <td>M</td>\n",
       "      <td>(34.0534, -118.2409)</td>\n",
       "      <td>2014</td>\n",
       "    </tr>\n",
       "    <tr>\n",
       "      <th>2</th>\n",
       "      <td>2014-8-6</td>\n",
       "      <td>630</td>\n",
       "      <td>59.0</td>\n",
       "      <td>M</td>\n",
       "      <td>(34.045, -118.2435)</td>\n",
       "      <td>2014</td>\n",
       "    </tr>\n",
       "    <tr>\n",
       "      <th>3</th>\n",
       "      <td>2014-9-12</td>\n",
       "      <td>1205</td>\n",
       "      <td>75.0</td>\n",
       "      <td>M</td>\n",
       "      <td>(34.0454, -118.2657)</td>\n",
       "      <td>2014</td>\n",
       "    </tr>\n",
       "    <tr>\n",
       "      <th>4</th>\n",
       "      <td>2014-9-20</td>\n",
       "      <td>1230</td>\n",
       "      <td>NaN</td>\n",
       "      <td>M</td>\n",
       "      <td>(34.0502, -118.2336)</td>\n",
       "      <td>2014</td>\n",
       "    </tr>\n",
       "  </tbody>\n",
       "</table>\n",
       "</div>"
      ],
      "text/plain": [
       "        Date  Time Occurred  Victim Age Victim Sex              Location  Year\n",
       "0  2014-5-15           1315        20.0          M  (34.0509, -118.2605)  2014\n",
       "1   2014-8-2           1210        51.0          M  (34.0534, -118.2409)  2014\n",
       "2   2014-8-6            630        59.0          M   (34.045, -118.2435)  2014\n",
       "3  2014-9-12           1205        75.0          M  (34.0454, -118.2657)  2014\n",
       "4  2014-9-20           1230         NaN          M  (34.0502, -118.2336)  2014"
      ]
     },
     "execution_count": 44,
     "metadata": {},
     "output_type": "execute_result"
    }
   ],
   "source": [
    "collision_final_data=collision_final_data.reset_index(drop=True)\n",
    "collision_final_data.head()\n"
   ]
  },
  {
   "cell_type": "code",
   "execution_count": 45,
   "metadata": {},
   "outputs": [],
   "source": [
    "collision_final_data.to_csv(\"Data/collision_2014to2018.csv\", encoding='utf-8', index=False)"
   ]
  },
  {
   "cell_type": "code",
   "execution_count": 23,
   "metadata": {},
   "outputs": [],
   "source": [
    "hourly_1 = pd.DataFrame(pd.read_csv(\"Data/hourly_weather_1.csv\"))\n",
    "hourly_2 = pd.DataFrame(pd.read_csv(\"Data/hourly_weather_1.csv\"))"
   ]
  },
  {
   "cell_type": "code",
   "execution_count": 24,
   "metadata": {},
   "outputs": [
    {
     "data": {
      "text/plain": [
       "Date                22758\n",
       "Hour                22758\n",
       "Temperature         22758\n",
       "PrecipIntensity     22758\n",
       "Date_Hour           22758\n",
       "Year                22758\n",
       "dtype: int64"
      ]
     },
     "execution_count": 24,
     "metadata": {},
     "output_type": "execute_result"
    }
   ],
   "source": [
    "hourly_1.count()"
   ]
  },
  {
   "cell_type": "code",
   "execution_count": 25,
   "metadata": {},
   "outputs": [
    {
     "data": {
      "text/plain": [
       "Date                22758\n",
       "Hour                22758\n",
       "Temperature         22758\n",
       "PrecipIntensity     22758\n",
       "Date_Hour           22758\n",
       "Year                22758\n",
       "dtype: int64"
      ]
     },
     "execution_count": 25,
     "metadata": {},
     "output_type": "execute_result"
    }
   ],
   "source": [
    "hourly_2.count()"
   ]
  },
  {
   "cell_type": "code",
   "execution_count": 26,
   "metadata": {},
   "outputs": [],
   "source": [
    "hourly_df = pd.concat([hourly_1,hourly_2])"
   ]
  },
  {
   "cell_type": "code",
   "execution_count": 28,
   "metadata": {},
   "outputs": [],
   "source": [
    "hourly_df.to_csv(\"Data/hourly_weather_2014to2018.csv\", encoding='utf-8', index=False)"
   ]
  },
  {
   "cell_type": "code",
   "execution_count": null,
   "metadata": {},
   "outputs": [],
   "source": []
  }
 ],
 "metadata": {
  "kernelspec": {
   "display_name": "Python [conda env:DanielData]",
   "language": "python",
   "name": "conda-env-DanielData-py"
  },
  "language_info": {
   "codemirror_mode": {
    "name": "ipython",
    "version": 3
   },
   "file_extension": ".py",
   "mimetype": "text/x-python",
   "name": "python",
   "nbconvert_exporter": "python",
   "pygments_lexer": "ipython3",
   "version": "3.6.5"
  }
 },
 "nbformat": 4,
 "nbformat_minor": 2
}
