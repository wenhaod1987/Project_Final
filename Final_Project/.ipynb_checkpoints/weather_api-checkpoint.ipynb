{
 "cells": [
  {
   "cell_type": "code",
   "execution_count": 2,
   "metadata": {},
   "outputs": [],
   "source": [
    "# Set dependencies\n",
    "from config import apikey\n",
    "import requests\n",
    "import json\n",
    "from datetime import datetime\n",
    "import pandas as pd\n",
    "\n",
    "#set api url and variables\n",
    "url = \"https://api.darksky.net/forecast/\"\n",
    "latitude = 34.0348\n",
    "longitude = -118.2362\n",
    "\n",
    "\n"
   ]
  },
  {
   "cell_type": "code",
   "execution_count": 1,
   "metadata": {},
   "outputs": [
    {
     "ename": "NameError",
     "evalue": "name 'requests' is not defined",
     "output_type": "error",
     "traceback": [
      "\u001b[1;31m---------------------------------------------------------------------------\u001b[0m",
      "\u001b[1;31mNameError\u001b[0m                                 Traceback (most recent call last)",
      "\u001b[1;32m<ipython-input-1-d44d1d362ad4>\u001b[0m in \u001b[0;36m<module>\u001b[1;34m()\u001b[0m\n\u001b[0;32m     10\u001b[0m \u001b[1;33m\u001b[0m\u001b[0m\n\u001b[0;32m     11\u001b[0m     \u001b[1;31m# Calls API on latitude, longitude, and time\u001b[0m\u001b[1;33m\u001b[0m\u001b[1;33m\u001b[0m\u001b[0m\n\u001b[1;32m---> 12\u001b[1;33m     \u001b[0mresponse\u001b[0m \u001b[1;33m=\u001b[0m \u001b[0mrequests\u001b[0m\u001b[1;33m.\u001b[0m\u001b[0mget\u001b[0m\u001b[1;33m(\u001b[0m\u001b[1;34mf\"https://api.darksky.net/forecast/{apikey}/{latitude},{longitude},{time}\"\u001b[0m\u001b[1;33m)\u001b[0m\u001b[1;33m\u001b[0m\u001b[0m\n\u001b[0m\u001b[0;32m     13\u001b[0m     \u001b[0mdata\u001b[0m \u001b[1;33m=\u001b[0m \u001b[0mresponse\u001b[0m\u001b[1;33m.\u001b[0m\u001b[0mjson\u001b[0m\u001b[1;33m(\u001b[0m\u001b[1;33m)\u001b[0m\u001b[1;33m\u001b[0m\u001b[0m\n\u001b[0;32m     14\u001b[0m \u001b[1;33m\u001b[0m\u001b[0m\n",
      "\u001b[1;31mNameError\u001b[0m: name 'requests' is not defined"
     ]
    }
   ],
   "source": [
    "#set lists\n",
    "date_list = []\n",
    "high_list = []\n",
    "rain_list = []\n",
    "low_list=[]\n",
    "\n",
    "for x in range(0, 990):\n",
    "    # Date at 17:00 for every day of the year\n",
    "    time = (1547859600 - (x * 86400)) \n",
    "    \n",
    "    # Calls API on latitude, longitude, and time\n",
    "    response = requests.get(f\"https://api.darksky.net/forecast/{apikey}/{latitude},{longitude},{time}\")\n",
    "    data = response.json()\n",
    "    \n",
    "    # Pulls Temp high, low, daily rain, and date\n",
    "    high_list.append(data['daily']['data'][0]['temperatureMax'])\n",
    "    low_list.append(data['daily']['data'][0]['temperatureMin'])\n",
    "    rain_list.append(data['daily']['data'][0]['precipIntensityMax'] * 5)\n",
    "    unix = data['daily']['data'][0]['time']\n",
    "    date = datetime.utcfromtimestamp(unix).strftime('%Y-%m-%d')\n",
    "    date_list.append(date)"
   ]
  },
  {
   "cell_type": "code",
   "execution_count": null,
   "metadata": {},
   "outputs": [],
   "source": [
    "weatherdate = {\"Date\": date_list,\n",
    "              \"Temp High\": high_list,\n",
    "              \"Temp Low\": low_list,\n",
    "              \"Precipitation \": rain_list}\n",
    "weatherdate_pd = pd.DataFrame.from_dict(weatherdate)\n"
   ]
  },
  {
   "cell_type": "code",
   "execution_count": null,
   "metadata": {},
   "outputs": [],
   "source": [
    "\n",
    "weatherdate_pd.to_csv(\"Data/weather_date_12312018_new.csv\", encoding='utf-8', index=False)"
   ]
  },
  {
   "cell_type": "code",
   "execution_count": null,
   "metadata": {},
   "outputs": [],
   "source": [
    "\n"
   ]
  }
 ],
 "metadata": {
  "kernelspec": {
   "display_name": "Python [conda env:DanielData]",
   "language": "python",
   "name": "conda-env-DanielData-py"
  },
  "language_info": {
   "codemirror_mode": {
    "name": "ipython",
    "version": 3
   },
   "file_extension": ".py",
   "mimetype": "text/x-python",
   "name": "python",
   "nbconvert_exporter": "python",
   "pygments_lexer": "ipython3",
   "version": "3.6.5"
  }
 },
 "nbformat": 4,
 "nbformat_minor": 2
}
