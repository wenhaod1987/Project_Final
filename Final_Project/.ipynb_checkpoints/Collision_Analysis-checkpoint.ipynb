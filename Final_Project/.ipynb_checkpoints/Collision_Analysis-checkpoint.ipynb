{
 "cells": [
  {
   "cell_type": "code",
   "execution_count": 1,
   "metadata": {},
   "outputs": [],
   "source": [
    "import pandas as pd\n",
    "%matplotlib inline\n",
    "import matplotlib.pyplot as plt\n",
    "import numpy as np"
   ]
  },
  {
   "cell_type": "markdown",
   "metadata": {},
   "source": [
    "# Read weather data and collision data for 2014 to 2018"
   ]
  },
  {
   "cell_type": "code",
   "execution_count": 2,
   "metadata": {},
   "outputs": [],
   "source": [
    "weather_data = pd.DataFrame(pd.read_csv(\"Data/weather_2014to2018.csv\"))\n",
    "collision_data= pd.DataFrame(pd.read_csv(\"Data/collision_2014to2018.csv\"))\n",
    "hourly_totalweather_df = pd.DataFrame(pd.read_csv(\"Data/hourly_weather_1.csv\"))"
   ]
  },
  {
   "cell_type": "code",
   "execution_count": 3,
   "metadata": {},
   "outputs": [
    {
     "data": {
      "text/html": [
       "<div>\n",
       "<style scoped>\n",
       "    .dataframe tbody tr th:only-of-type {\n",
       "        vertical-align: middle;\n",
       "    }\n",
       "\n",
       "    .dataframe tbody tr th {\n",
       "        vertical-align: top;\n",
       "    }\n",
       "\n",
       "    .dataframe thead th {\n",
       "        text-align: right;\n",
       "    }\n",
       "</style>\n",
       "<table border=\"1\" class=\"dataframe\">\n",
       "  <thead>\n",
       "    <tr style=\"text-align: right;\">\n",
       "      <th></th>\n",
       "      <th>Date</th>\n",
       "      <th>Temp High</th>\n",
       "      <th>Precipitation</th>\n",
       "    </tr>\n",
       "  </thead>\n",
       "  <tbody>\n",
       "    <tr>\n",
       "      <th>0</th>\n",
       "      <td>2014-1-1</td>\n",
       "      <td>72.06</td>\n",
       "      <td>0.000</td>\n",
       "    </tr>\n",
       "    <tr>\n",
       "      <th>1</th>\n",
       "      <td>2014-1-2</td>\n",
       "      <td>79.27</td>\n",
       "      <td>0.000</td>\n",
       "    </tr>\n",
       "    <tr>\n",
       "      <th>2</th>\n",
       "      <td>2014-1-3</td>\n",
       "      <td>71.57</td>\n",
       "      <td>0.002</td>\n",
       "    </tr>\n",
       "    <tr>\n",
       "      <th>3</th>\n",
       "      <td>2014-1-4</td>\n",
       "      <td>69.33</td>\n",
       "      <td>0.000</td>\n",
       "    </tr>\n",
       "    <tr>\n",
       "      <th>4</th>\n",
       "      <td>2014-1-5</td>\n",
       "      <td>76.42</td>\n",
       "      <td>0.001</td>\n",
       "    </tr>\n",
       "  </tbody>\n",
       "</table>\n",
       "</div>"
      ],
      "text/plain": [
       "       Date  Temp High  Precipitation\n",
       "0  2014-1-1      72.06          0.000\n",
       "1  2014-1-2      79.27          0.000\n",
       "2  2014-1-3      71.57          0.002\n",
       "3  2014-1-4      69.33          0.000\n",
       "4  2014-1-5      76.42          0.001"
      ]
     },
     "execution_count": 3,
     "metadata": {},
     "output_type": "execute_result"
    }
   ],
   "source": [
    "weather_data=weather_data[[\"Date\",\"Temp High\",\"Precipitation\"]]\n",
    "weather_data.head()"
   ]
  },
  {
   "cell_type": "code",
   "execution_count": 4,
   "metadata": {},
   "outputs": [
    {
     "data": {
      "text/html": [
       "<div>\n",
       "<style scoped>\n",
       "    .dataframe tbody tr th:only-of-type {\n",
       "        vertical-align: middle;\n",
       "    }\n",
       "\n",
       "    .dataframe tbody tr th {\n",
       "        vertical-align: top;\n",
       "    }\n",
       "\n",
       "    .dataframe thead th {\n",
       "        text-align: right;\n",
       "    }\n",
       "</style>\n",
       "<table border=\"1\" class=\"dataframe\">\n",
       "  <thead>\n",
       "    <tr style=\"text-align: right;\">\n",
       "      <th></th>\n",
       "      <th>Date</th>\n",
       "      <th>Hour</th>\n",
       "      <th>Temperature</th>\n",
       "      <th>PrecipIntensity</th>\n",
       "      <th>Date_Hour</th>\n",
       "      <th>Year</th>\n",
       "    </tr>\n",
       "  </thead>\n",
       "  <tbody>\n",
       "    <tr>\n",
       "      <th>0</th>\n",
       "      <td>12/31/2018</td>\n",
       "      <td>0</td>\n",
       "      <td>50.38</td>\n",
       "      <td>0.0</td>\n",
       "      <td>2018-12-31-00</td>\n",
       "      <td>2018</td>\n",
       "    </tr>\n",
       "    <tr>\n",
       "      <th>1</th>\n",
       "      <td>12/31/2018</td>\n",
       "      <td>1</td>\n",
       "      <td>49.88</td>\n",
       "      <td>0.0</td>\n",
       "      <td>2018-12-31-01</td>\n",
       "      <td>2018</td>\n",
       "    </tr>\n",
       "    <tr>\n",
       "      <th>2</th>\n",
       "      <td>12/31/2018</td>\n",
       "      <td>2</td>\n",
       "      <td>49.59</td>\n",
       "      <td>0.0</td>\n",
       "      <td>2018-12-31-02</td>\n",
       "      <td>2018</td>\n",
       "    </tr>\n",
       "    <tr>\n",
       "      <th>3</th>\n",
       "      <td>12/31/2018</td>\n",
       "      <td>3</td>\n",
       "      <td>49.55</td>\n",
       "      <td>0.0</td>\n",
       "      <td>2018-12-31-03</td>\n",
       "      <td>2018</td>\n",
       "    </tr>\n",
       "    <tr>\n",
       "      <th>4</th>\n",
       "      <td>12/31/2018</td>\n",
       "      <td>4</td>\n",
       "      <td>49.48</td>\n",
       "      <td>0.0</td>\n",
       "      <td>2018-12-31-04</td>\n",
       "      <td>2018</td>\n",
       "    </tr>\n",
       "  </tbody>\n",
       "</table>\n",
       "</div>"
      ],
      "text/plain": [
       "         Date  Hour  Temperature  PrecipIntensity      Date_Hour  Year\n",
       "0  12/31/2018     0        50.38              0.0  2018-12-31-00  2018\n",
       "1  12/31/2018     1        49.88              0.0  2018-12-31-01  2018\n",
       "2  12/31/2018     2        49.59              0.0  2018-12-31-02  2018\n",
       "3  12/31/2018     3        49.55              0.0  2018-12-31-03  2018\n",
       "4  12/31/2018     4        49.48              0.0  2018-12-31-04  2018"
      ]
     },
     "execution_count": 4,
     "metadata": {},
     "output_type": "execute_result"
    }
   ],
   "source": [
    "# filter hour data for 2017 and 2018\n",
    "hourly_totalweather_df = hourly_totalweather_df[hourly_totalweather_df[\"Year\"]>2016]\n",
    "hourly_totalweather_df=hourly_totalweather_df.reset_index(drop=True)\n",
    "hourly_totalweather_df.head()"
   ]
  },
  {
   "cell_type": "code",
   "execution_count": 5,
   "metadata": {
    "scrolled": false
   },
   "outputs": [
    {
     "data": {
      "text/html": [
       "<div>\n",
       "<style scoped>\n",
       "    .dataframe tbody tr th:only-of-type {\n",
       "        vertical-align: middle;\n",
       "    }\n",
       "\n",
       "    .dataframe tbody tr th {\n",
       "        vertical-align: top;\n",
       "    }\n",
       "\n",
       "    .dataframe thead th {\n",
       "        text-align: right;\n",
       "    }\n",
       "</style>\n",
       "<table border=\"1\" class=\"dataframe\">\n",
       "  <thead>\n",
       "    <tr style=\"text-align: right;\">\n",
       "      <th></th>\n",
       "      <th>Date</th>\n",
       "      <th>Time Occurred</th>\n",
       "      <th>Victim Age</th>\n",
       "      <th>Victim Sex</th>\n",
       "      <th>Location</th>\n",
       "      <th>Year</th>\n",
       "    </tr>\n",
       "  </thead>\n",
       "  <tbody>\n",
       "    <tr>\n",
       "      <th>0</th>\n",
       "      <td>2017-9-10</td>\n",
       "      <td>250</td>\n",
       "      <td>45.0</td>\n",
       "      <td>M</td>\n",
       "      <td>(34.0569, -118.2689)</td>\n",
       "      <td>2017</td>\n",
       "    </tr>\n",
       "    <tr>\n",
       "      <th>1</th>\n",
       "      <td>2017-10-20</td>\n",
       "      <td>750</td>\n",
       "      <td>16.0</td>\n",
       "      <td>F</td>\n",
       "      <td>(34.0165, -118.3171)</td>\n",
       "      <td>2017</td>\n",
       "    </tr>\n",
       "    <tr>\n",
       "      <th>2</th>\n",
       "      <td>2017-1-6</td>\n",
       "      <td>620</td>\n",
       "      <td>44.0</td>\n",
       "      <td>M</td>\n",
       "      <td>(33.7798, -118.2656)</td>\n",
       "      <td>2017</td>\n",
       "    </tr>\n",
       "    <tr>\n",
       "      <th>3</th>\n",
       "      <td>2017-1-18</td>\n",
       "      <td>1930</td>\n",
       "      <td>NaN</td>\n",
       "      <td>M</td>\n",
       "      <td>(33.8584, -118.3035)</td>\n",
       "      <td>2017</td>\n",
       "    </tr>\n",
       "    <tr>\n",
       "      <th>4</th>\n",
       "      <td>2017-1-27</td>\n",
       "      <td>2330</td>\n",
       "      <td>NaN</td>\n",
       "      <td>M</td>\n",
       "      <td>(33.7798, -118.2656)</td>\n",
       "      <td>2017</td>\n",
       "    </tr>\n",
       "  </tbody>\n",
       "</table>\n",
       "</div>"
      ],
      "text/plain": [
       "         Date  Time Occurred  Victim Age Victim Sex              Location  \\\n",
       "0   2017-9-10            250        45.0          M  (34.0569, -118.2689)   \n",
       "1  2017-10-20            750        16.0          F  (34.0165, -118.3171)   \n",
       "2    2017-1-6            620        44.0          M  (33.7798, -118.2656)   \n",
       "3   2017-1-18           1930         NaN          M  (33.8584, -118.3035)   \n",
       "4   2017-1-27           2330         NaN          M  (33.7798, -118.2656)   \n",
       "\n",
       "   Year  \n",
       "0  2017  \n",
       "1  2017  \n",
       "2  2017  \n",
       "3  2017  \n",
       "4  2017  "
      ]
     },
     "execution_count": 5,
     "metadata": {},
     "output_type": "execute_result"
    }
   ],
   "source": [
    "collision_data=collision_data[collision_data[\"Year\"]>2016]\n",
    "collision_data=collision_data.reset_index(drop=True)\n",
    "collision_data.head()"
   ]
  },
  {
   "cell_type": "markdown",
   "metadata": {},
   "source": [
    "* Add Hour column based on Time of the collision Occurred"
   ]
  },
  {
   "cell_type": "code",
   "execution_count": 6,
   "metadata": {
    "scrolled": true
   },
   "outputs": [
    {
     "data": {
      "text/html": [
       "<div>\n",
       "<style scoped>\n",
       "    .dataframe tbody tr th:only-of-type {\n",
       "        vertical-align: middle;\n",
       "    }\n",
       "\n",
       "    .dataframe tbody tr th {\n",
       "        vertical-align: top;\n",
       "    }\n",
       "\n",
       "    .dataframe thead th {\n",
       "        text-align: right;\n",
       "    }\n",
       "</style>\n",
       "<table border=\"1\" class=\"dataframe\">\n",
       "  <thead>\n",
       "    <tr style=\"text-align: right;\">\n",
       "      <th></th>\n",
       "      <th>Date</th>\n",
       "      <th>Time Occurred</th>\n",
       "      <th>Victim Age</th>\n",
       "      <th>Victim Sex</th>\n",
       "      <th>Location</th>\n",
       "      <th>Year</th>\n",
       "      <th>Hour</th>\n",
       "    </tr>\n",
       "  </thead>\n",
       "  <tbody>\n",
       "    <tr>\n",
       "      <th>0</th>\n",
       "      <td>2017-9-10</td>\n",
       "      <td>250</td>\n",
       "      <td>45.0</td>\n",
       "      <td>M</td>\n",
       "      <td>(34.0569, -118.2689)</td>\n",
       "      <td>2017</td>\n",
       "      <td>2</td>\n",
       "    </tr>\n",
       "    <tr>\n",
       "      <th>1</th>\n",
       "      <td>2017-10-20</td>\n",
       "      <td>750</td>\n",
       "      <td>16.0</td>\n",
       "      <td>F</td>\n",
       "      <td>(34.0165, -118.3171)</td>\n",
       "      <td>2017</td>\n",
       "      <td>7</td>\n",
       "    </tr>\n",
       "    <tr>\n",
       "      <th>2</th>\n",
       "      <td>2017-1-6</td>\n",
       "      <td>620</td>\n",
       "      <td>44.0</td>\n",
       "      <td>M</td>\n",
       "      <td>(33.7798, -118.2656)</td>\n",
       "      <td>2017</td>\n",
       "      <td>6</td>\n",
       "    </tr>\n",
       "    <tr>\n",
       "      <th>3</th>\n",
       "      <td>2017-1-18</td>\n",
       "      <td>1930</td>\n",
       "      <td>NaN</td>\n",
       "      <td>M</td>\n",
       "      <td>(33.8584, -118.3035)</td>\n",
       "      <td>2017</td>\n",
       "      <td>19</td>\n",
       "    </tr>\n",
       "    <tr>\n",
       "      <th>4</th>\n",
       "      <td>2017-1-27</td>\n",
       "      <td>2330</td>\n",
       "      <td>NaN</td>\n",
       "      <td>M</td>\n",
       "      <td>(33.7798, -118.2656)</td>\n",
       "      <td>2017</td>\n",
       "      <td>23</td>\n",
       "    </tr>\n",
       "  </tbody>\n",
       "</table>\n",
       "</div>"
      ],
      "text/plain": [
       "         Date  Time Occurred  Victim Age Victim Sex              Location  \\\n",
       "0   2017-9-10            250        45.0          M  (34.0569, -118.2689)   \n",
       "1  2017-10-20            750        16.0          F  (34.0165, -118.3171)   \n",
       "2    2017-1-6            620        44.0          M  (33.7798, -118.2656)   \n",
       "3   2017-1-18           1930         NaN          M  (33.8584, -118.3035)   \n",
       "4   2017-1-27           2330         NaN          M  (33.7798, -118.2656)   \n",
       "\n",
       "   Year Hour  \n",
       "0  2017    2  \n",
       "1  2017    7  \n",
       "2  2017    6  \n",
       "3  2017   19  \n",
       "4  2017   23  "
      ]
     },
     "execution_count": 6,
     "metadata": {},
     "output_type": "execute_result"
    }
   ],
   "source": [
    "# add column of Hour\n",
    "hour=[]\n",
    "for x in collision_data[\"Time Occurred\"]:\n",
    "    hour.append(str(x)[:-2])\n",
    "\n",
    "collision_data[\"Hour\"]=hour\n",
    "collision_data.head()\n"
   ]
  },
  {
   "cell_type": "markdown",
   "metadata": {},
   "source": [
    "* Group data frame based on Date and Hour column"
   ]
  },
  {
   "cell_type": "code",
   "execution_count": 9,
   "metadata": {
    "scrolled": true
   },
   "outputs": [
    {
     "data": {
      "text/html": [
       "<div>\n",
       "<style scoped>\n",
       "    .dataframe tbody tr th:only-of-type {\n",
       "        vertical-align: middle;\n",
       "    }\n",
       "\n",
       "    .dataframe tbody tr th {\n",
       "        vertical-align: top;\n",
       "    }\n",
       "\n",
       "    .dataframe thead th {\n",
       "        text-align: right;\n",
       "    }\n",
       "</style>\n",
       "<table border=\"1\" class=\"dataframe\">\n",
       "  <thead>\n",
       "    <tr style=\"text-align: right;\">\n",
       "      <th></th>\n",
       "      <th>Date</th>\n",
       "      <th>Hour</th>\n",
       "      <th>Collision Count</th>\n",
       "    </tr>\n",
       "  </thead>\n",
       "  <tbody>\n",
       "    <tr>\n",
       "      <th>0</th>\n",
       "      <td>2017-1-1</td>\n",
       "      <td></td>\n",
       "      <td>10</td>\n",
       "    </tr>\n",
       "    <tr>\n",
       "      <th>1</th>\n",
       "      <td>2017-1-1</td>\n",
       "      <td>1</td>\n",
       "      <td>10</td>\n",
       "    </tr>\n",
       "    <tr>\n",
       "      <th>2</th>\n",
       "      <td>2017-1-1</td>\n",
       "      <td>10</td>\n",
       "      <td>3</td>\n",
       "    </tr>\n",
       "    <tr>\n",
       "      <th>3</th>\n",
       "      <td>2017-1-1</td>\n",
       "      <td>11</td>\n",
       "      <td>5</td>\n",
       "    </tr>\n",
       "    <tr>\n",
       "      <th>4</th>\n",
       "      <td>2017-1-1</td>\n",
       "      <td>12</td>\n",
       "      <td>4</td>\n",
       "    </tr>\n",
       "  </tbody>\n",
       "</table>\n",
       "</div>"
      ],
      "text/plain": [
       "       Date Hour  Collision Count\n",
       "0  2017-1-1                    10\n",
       "1  2017-1-1    1               10\n",
       "2  2017-1-1   10                3\n",
       "3  2017-1-1   11                5\n",
       "4  2017-1-1   12                4"
      ]
     },
     "execution_count": 9,
     "metadata": {},
     "output_type": "execute_result"
    }
   ],
   "source": [
    "# group collision data by Date and Hour\n",
    "hourly_gb = collision_data.groupby([\"Date\",\"Hour\"])\n",
    "hourly_collision_df = pd.DataFrame(hourly_gb[\"Year\"].count()).reset_index()\n",
    "hourly_collision_df=hourly_collision_df.rename(columns={\"Year\" : \"Collision Count\"})\n",
    "hourly_collision_df.head()"
   ]
  },
  {
   "cell_type": "code",
   "execution_count": 11,
   "metadata": {},
   "outputs": [
    {
     "data": {
      "text/html": [
       "<div>\n",
       "<style scoped>\n",
       "    .dataframe tbody tr th:only-of-type {\n",
       "        vertical-align: middle;\n",
       "    }\n",
       "\n",
       "    .dataframe tbody tr th {\n",
       "        vertical-align: top;\n",
       "    }\n",
       "\n",
       "    .dataframe thead th {\n",
       "        text-align: right;\n",
       "    }\n",
       "</style>\n",
       "<table border=\"1\" class=\"dataframe\">\n",
       "  <thead>\n",
       "    <tr style=\"text-align: right;\">\n",
       "      <th></th>\n",
       "      <th>Date_Hour</th>\n",
       "      <th>Hour_2</th>\n",
       "      <th>Month</th>\n",
       "      <th>Collision Count</th>\n",
       "    </tr>\n",
       "  </thead>\n",
       "  <tbody>\n",
       "    <tr>\n",
       "      <th>0</th>\n",
       "      <td>2017-01-01-00</td>\n",
       "      <td>00</td>\n",
       "      <td>01</td>\n",
       "      <td>10</td>\n",
       "    </tr>\n",
       "    <tr>\n",
       "      <th>1</th>\n",
       "      <td>2017-01-01-01</td>\n",
       "      <td>01</td>\n",
       "      <td>01</td>\n",
       "      <td>10</td>\n",
       "    </tr>\n",
       "    <tr>\n",
       "      <th>2</th>\n",
       "      <td>2017-01-01-10</td>\n",
       "      <td>10</td>\n",
       "      <td>01</td>\n",
       "      <td>3</td>\n",
       "    </tr>\n",
       "    <tr>\n",
       "      <th>3</th>\n",
       "      <td>2017-01-01-11</td>\n",
       "      <td>11</td>\n",
       "      <td>01</td>\n",
       "      <td>5</td>\n",
       "    </tr>\n",
       "    <tr>\n",
       "      <th>4</th>\n",
       "      <td>2017-01-01-12</td>\n",
       "      <td>12</td>\n",
       "      <td>01</td>\n",
       "      <td>4</td>\n",
       "    </tr>\n",
       "  </tbody>\n",
       "</table>\n",
       "</div>"
      ],
      "text/plain": [
       "       Date_Hour Hour_2 Month  Collision Count\n",
       "0  2017-01-01-00     00    01               10\n",
       "1  2017-01-01-01     01    01               10\n",
       "2  2017-01-01-10     10    01                3\n",
       "3  2017-01-01-11     11    01                5\n",
       "4  2017-01-01-12     12    01                4"
      ]
     },
     "execution_count": 11,
     "metadata": {},
     "output_type": "execute_result"
    }
   ],
   "source": [
    "# add conver Hour into 2 digit format and add month column\n",
    "year_ls=[]\n",
    "month_ls = []\n",
    "day_ls=[]\n",
    "hour_ls=[]\n",
    "day_hour_ls=[]\n",
    "\n",
    "for x in hourly_collision_df[\"Date\"]:\n",
    "    date_split=x.split('-')\n",
    "    year_ls.append(date_split[0])\n",
    "    if len(date_split[1])==1:       \n",
    "        month_ls.append(f'0{date_split[1]}')\n",
    "    else:\n",
    "        month_ls.append(f'{date_split[1]}')\n",
    "    \n",
    "    if len(date_split[2])==1:       \n",
    "        day_ls.append(f'0{date_split[2]}')\n",
    "    else:\n",
    "        day_ls.append(f'{date_split[2]}')\n",
    "\n",
    "for r in hourly_collision_df[\"Hour\"]:\n",
    "    if r==\"\":\n",
    "        hour_ls.append(\"00\")\n",
    "    elif len(r)==1:\n",
    "        hour_ls.append(f'0{r}')\n",
    "    else:\n",
    "        hour_ls.append(f'{r}')\n",
    "    \n",
    "hourly_collision_df[\"Month\"]=month_ls\n",
    "\n",
    "for y in range(0, len(year_ls)):\n",
    "    day_hour_ls.append(f\"{year_ls[y]}-{month_ls[y]}-{day_ls[y]}-{hour_ls[y]}\")\n",
    "\n",
    "hourly_collision_df[\"Date_Hour\"]=day_hour_ls\n",
    "hourly_collision_df[\"Hour_2\"]=hour_ls\n",
    "\n",
    "hourly_collision_ready = hourly_collision_df[[\"Date_Hour\",\"Hour_2\",\"Month\",\"Collision Count\"]]\n",
    "\n",
    "hourly_collision_ready.head()"
   ]
  },
  {
   "cell_type": "code",
   "execution_count": 13,
   "metadata": {
    "scrolled": false
   },
   "outputs": [
    {
     "data": {
      "text/html": [
       "<div>\n",
       "<style scoped>\n",
       "    .dataframe tbody tr th:only-of-type {\n",
       "        vertical-align: middle;\n",
       "    }\n",
       "\n",
       "    .dataframe tbody tr th {\n",
       "        vertical-align: top;\n",
       "    }\n",
       "\n",
       "    .dataframe thead th {\n",
       "        text-align: right;\n",
       "    }\n",
       "</style>\n",
       "<table border=\"1\" class=\"dataframe\">\n",
       "  <thead>\n",
       "    <tr style=\"text-align: right;\">\n",
       "      <th></th>\n",
       "      <th>Date_Hour</th>\n",
       "      <th>Temperature</th>\n",
       "      <th>PrecipIntensity</th>\n",
       "    </tr>\n",
       "  </thead>\n",
       "  <tbody>\n",
       "    <tr>\n",
       "      <th>0</th>\n",
       "      <td>2018-12-31-00</td>\n",
       "      <td>50.38</td>\n",
       "      <td>0.0</td>\n",
       "    </tr>\n",
       "    <tr>\n",
       "      <th>1</th>\n",
       "      <td>2018-12-31-01</td>\n",
       "      <td>49.88</td>\n",
       "      <td>0.0</td>\n",
       "    </tr>\n",
       "    <tr>\n",
       "      <th>2</th>\n",
       "      <td>2018-12-31-02</td>\n",
       "      <td>49.59</td>\n",
       "      <td>0.0</td>\n",
       "    </tr>\n",
       "    <tr>\n",
       "      <th>3</th>\n",
       "      <td>2018-12-31-03</td>\n",
       "      <td>49.55</td>\n",
       "      <td>0.0</td>\n",
       "    </tr>\n",
       "    <tr>\n",
       "      <th>4</th>\n",
       "      <td>2018-12-31-04</td>\n",
       "      <td>49.48</td>\n",
       "      <td>0.0</td>\n",
       "    </tr>\n",
       "  </tbody>\n",
       "</table>\n",
       "</div>"
      ],
      "text/plain": [
       "       Date_Hour  Temperature  PrecipIntensity\n",
       "0  2018-12-31-00        50.38              0.0\n",
       "1  2018-12-31-01        49.88              0.0\n",
       "2  2018-12-31-02        49.59              0.0\n",
       "3  2018-12-31-03        49.55              0.0\n",
       "4  2018-12-31-04        49.48              0.0"
      ]
     },
     "execution_count": 13,
     "metadata": {},
     "output_type": "execute_result"
    }
   ],
   "source": [
    "hourly_weather_ready = hourly_totalweather_df[[\"Date_Hour\",\"Temperature\",\"PrecipIntensity\"]]\n",
    "hourly_weather_ready.head()"
   ]
  },
  {
   "cell_type": "markdown",
   "metadata": {},
   "source": [
    "* combine 2 data frame by merged on \"Date_Hour\""
   ]
  },
  {
   "cell_type": "code",
   "execution_count": 14,
   "metadata": {
    "scrolled": true
   },
   "outputs": [
    {
     "data": {
      "text/html": [
       "<div>\n",
       "<style scoped>\n",
       "    .dataframe tbody tr th:only-of-type {\n",
       "        vertical-align: middle;\n",
       "    }\n",
       "\n",
       "    .dataframe tbody tr th {\n",
       "        vertical-align: top;\n",
       "    }\n",
       "\n",
       "    .dataframe thead th {\n",
       "        text-align: right;\n",
       "    }\n",
       "</style>\n",
       "<table border=\"1\" class=\"dataframe\">\n",
       "  <thead>\n",
       "    <tr style=\"text-align: right;\">\n",
       "      <th></th>\n",
       "      <th>Date_Hour</th>\n",
       "      <th>Hour_2</th>\n",
       "      <th>Month</th>\n",
       "      <th>Collision Count</th>\n",
       "      <th>Temperature</th>\n",
       "      <th>PrecipIntensity</th>\n",
       "    </tr>\n",
       "  </thead>\n",
       "  <tbody>\n",
       "    <tr>\n",
       "      <th>0</th>\n",
       "      <td>2017-01-01-00</td>\n",
       "      <td>00</td>\n",
       "      <td>01</td>\n",
       "      <td>10</td>\n",
       "      <td>46.24</td>\n",
       "      <td>0.0035</td>\n",
       "    </tr>\n",
       "    <tr>\n",
       "      <th>1</th>\n",
       "      <td>2017-01-01-01</td>\n",
       "      <td>01</td>\n",
       "      <td>01</td>\n",
       "      <td>10</td>\n",
       "      <td>45.58</td>\n",
       "      <td>0.0025</td>\n",
       "    </tr>\n",
       "    <tr>\n",
       "      <th>2</th>\n",
       "      <td>2017-01-01-10</td>\n",
       "      <td>10</td>\n",
       "      <td>01</td>\n",
       "      <td>3</td>\n",
       "      <td>52.16</td>\n",
       "      <td>0.0025</td>\n",
       "    </tr>\n",
       "    <tr>\n",
       "      <th>3</th>\n",
       "      <td>2017-01-01-11</td>\n",
       "      <td>11</td>\n",
       "      <td>01</td>\n",
       "      <td>5</td>\n",
       "      <td>54.91</td>\n",
       "      <td>0.0030</td>\n",
       "    </tr>\n",
       "    <tr>\n",
       "      <th>4</th>\n",
       "      <td>2017-01-01-12</td>\n",
       "      <td>12</td>\n",
       "      <td>01</td>\n",
       "      <td>4</td>\n",
       "      <td>56.52</td>\n",
       "      <td>0.0000</td>\n",
       "    </tr>\n",
       "  </tbody>\n",
       "</table>\n",
       "</div>"
      ],
      "text/plain": [
       "       Date_Hour Hour_2 Month  Collision Count  Temperature  PrecipIntensity\n",
       "0  2017-01-01-00     00    01               10        46.24           0.0035\n",
       "1  2017-01-01-01     01    01               10        45.58           0.0025\n",
       "2  2017-01-01-10     10    01                3        52.16           0.0025\n",
       "3  2017-01-01-11     11    01                5        54.91           0.0030\n",
       "4  2017-01-01-12     12    01                4        56.52           0.0000"
      ]
     },
     "execution_count": 14,
     "metadata": {},
     "output_type": "execute_result"
    }
   ],
   "source": [
    "hourly_combined_df = hourly_collision_ready.merge(hourly_weather_ready,on=\"Date_Hour\", how = \"left\")\n",
    "hourly_combined_df.head()"
   ]
  },
  {
   "cell_type": "code",
   "execution_count": 27,
   "metadata": {},
   "outputs": [
    {
     "name": "stderr",
     "output_type": "stream",
     "text": [
      "C:\\Users\\danie\\Anaconda3\\envs\\DanielData\\lib\\site-packages\\ipykernel\\__main__.py:6: SettingWithCopyWarning: \n",
      "A value is trying to be set on a copy of a slice from a DataFrame.\n",
      "Try using .loc[row_indexer,col_indexer] = value instead\n",
      "\n",
      "See the caveats in the documentation: http://pandas.pydata.org/pandas-docs/stable/indexing.html#indexing-view-versus-copy\n",
      "C:\\Users\\danie\\Anaconda3\\envs\\DanielData\\lib\\site-packages\\ipykernel\\__main__.py:7: SettingWithCopyWarning: \n",
      "A value is trying to be set on a copy of a slice from a DataFrame.\n",
      "Try using .loc[row_indexer,col_indexer] = value instead\n",
      "\n",
      "See the caveats in the documentation: http://pandas.pydata.org/pandas-docs/stable/indexing.html#indexing-view-versus-copy\n"
     ]
    },
    {
     "data": {
      "text/html": [
       "<div>\n",
       "<style scoped>\n",
       "    .dataframe tbody tr th:only-of-type {\n",
       "        vertical-align: middle;\n",
       "    }\n",
       "\n",
       "    .dataframe tbody tr th {\n",
       "        vertical-align: top;\n",
       "    }\n",
       "\n",
       "    .dataframe thead th {\n",
       "        text-align: right;\n",
       "    }\n",
       "</style>\n",
       "<table border=\"1\" class=\"dataframe\">\n",
       "  <thead>\n",
       "    <tr style=\"text-align: right;\">\n",
       "      <th></th>\n",
       "      <th>Date_Hour</th>\n",
       "      <th>Hour_2</th>\n",
       "      <th>Month</th>\n",
       "      <th>Collision Count</th>\n",
       "      <th>Temperature</th>\n",
       "      <th>PrecipIntensity</th>\n",
       "      <th>Day of Week</th>\n",
       "    </tr>\n",
       "  </thead>\n",
       "  <tbody>\n",
       "    <tr>\n",
       "      <th>0</th>\n",
       "      <td>2017-01-01-00</td>\n",
       "      <td>00</td>\n",
       "      <td>01</td>\n",
       "      <td>10</td>\n",
       "      <td>46.24</td>\n",
       "      <td>0.0035</td>\n",
       "      <td>Sunday</td>\n",
       "    </tr>\n",
       "    <tr>\n",
       "      <th>1</th>\n",
       "      <td>2017-01-01-01</td>\n",
       "      <td>01</td>\n",
       "      <td>01</td>\n",
       "      <td>10</td>\n",
       "      <td>45.58</td>\n",
       "      <td>0.0025</td>\n",
       "      <td>Sunday</td>\n",
       "    </tr>\n",
       "    <tr>\n",
       "      <th>2</th>\n",
       "      <td>2017-01-01-10</td>\n",
       "      <td>10</td>\n",
       "      <td>01</td>\n",
       "      <td>3</td>\n",
       "      <td>52.16</td>\n",
       "      <td>0.0025</td>\n",
       "      <td>Sunday</td>\n",
       "    </tr>\n",
       "    <tr>\n",
       "      <th>3</th>\n",
       "      <td>2017-01-01-11</td>\n",
       "      <td>11</td>\n",
       "      <td>01</td>\n",
       "      <td>5</td>\n",
       "      <td>54.91</td>\n",
       "      <td>0.0030</td>\n",
       "      <td>Sunday</td>\n",
       "    </tr>\n",
       "    <tr>\n",
       "      <th>4</th>\n",
       "      <td>2017-01-01-12</td>\n",
       "      <td>12</td>\n",
       "      <td>01</td>\n",
       "      <td>4</td>\n",
       "      <td>56.52</td>\n",
       "      <td>0.0000</td>\n",
       "      <td>Sunday</td>\n",
       "    </tr>\n",
       "  </tbody>\n",
       "</table>\n",
       "</div>"
      ],
      "text/plain": [
       "       Date_Hour Hour_2 Month  Collision Count  Temperature  PrecipIntensity  \\\n",
       "0  2017-01-01-00     00    01               10        46.24           0.0035   \n",
       "1  2017-01-01-01     01    01               10        45.58           0.0025   \n",
       "2  2017-01-01-10     10    01                3        52.16           0.0025   \n",
       "3  2017-01-01-11     11    01                5        54.91           0.0030   \n",
       "4  2017-01-01-12     12    01                4        56.52           0.0000   \n",
       "\n",
       "  Day of Week  \n",
       "0      Sunday  \n",
       "1      Sunday  \n",
       "2      Sunday  \n",
       "3      Sunday  \n",
       "4      Sunday  "
      ]
     },
     "execution_count": 27,
     "metadata": {},
     "output_type": "execute_result"
    }
   ],
   "source": [
    "#add a column of \"Day of Week\"\n",
    "day_ls = []\n",
    "for date_hour in hourly_combined_df[\"Date_Hour\"]:\n",
    "    day_ls.append(date_hour[:10])\n",
    "    \n",
    "date_df = pd.to_datetime(day_ls)\n",
    "hourly_combined_df[\"Day of Week\"]=date_df\n",
    "hourly_combined_df[\"Day of Week\"]=hourly_combined_df[\"Day of Week\"].dt.day_name()\n",
    "hourly_combined_df = hourly_combined_df.dropna(how='any')\n",
    "hourly_combined_df.head()"
   ]
  },
  {
   "cell_type": "code",
   "execution_count": 28,
   "metadata": {},
   "outputs": [],
   "source": [
    "# set data to X and y for later model training\n",
    "y_0=hourly_combined_df[\"Collision Count\"].values.reshape(-1, 1)\n",
    "X_0=pd.get_dummies(hourly_combined_df[[\"Temperature\",\"PrecipIntensity\",\"Day of Week\",\"Month\",\"Hour_2\"]])"
   ]
  },
  {
   "cell_type": "code",
   "execution_count": 29,
   "metadata": {},
   "outputs": [],
   "source": [
    "# use sklearn to split data\n",
    "from sklearn.model_selection import train_test_split\n",
    "X_train, X_test, y_train, y_test = train_test_split(X_0, y_0, random_state=42)"
   ]
  },
  {
   "cell_type": "code",
   "execution_count": 30,
   "metadata": {},
   "outputs": [
    {
     "data": {
      "text/plain": [
       "LinearRegression(copy_X=True, fit_intercept=True, n_jobs=1, normalize=False)"
      ]
     },
     "execution_count": 30,
     "metadata": {},
     "output_type": "execute_result"
    }
   ],
   "source": [
    "# use date to train a linear regression model\n",
    "from sklearn.linear_model import LinearRegression\n",
    "model_0 = LinearRegression()\n",
    "model_0.fit(X_train, y_train)"
   ]
  },
  {
   "cell_type": "code",
   "execution_count": 31,
   "metadata": {},
   "outputs": [
    {
     "name": "stdout",
     "output_type": "stream",
     "text": [
      "MSE: 8.690810300443479, R2: 0.4323312050636351\n"
     ]
    }
   ],
   "source": [
    "# get the score of the model\n",
    "from sklearn.metrics import mean_squared_error\n",
    "predictions = model_0.predict(X_test)\n",
    "MSE = mean_squared_error(y_test, predictions)\n",
    "r2 = model_0.score(X_test, y_test)\n",
    "\n",
    "print(f\"MSE: {MSE}, R2: {r2}\")"
   ]
  },
  {
   "cell_type": "code",
   "execution_count": null,
   "metadata": {},
   "outputs": [],
   "source": []
  },
  {
   "cell_type": "code",
   "execution_count": null,
   "metadata": {
    "scrolled": false
   },
   "outputs": [],
   "source": [
    "combined_df = hourly_collision_df.merge(weather_data,on=\"Date\",how=\"inner\")\n",
    "# combined_df.head()"
   ]
  },
  {
   "cell_type": "markdown",
   "metadata": {},
   "source": [
    "* add the day of the week based on date"
   ]
  },
  {
   "cell_type": "code",
   "execution_count": null,
   "metadata": {
    "scrolled": true
   },
   "outputs": [],
   "source": [
    "# day_ls_1 = pd.to_datetime(combined_df[\"Date\"])\n",
    "# combined_df[\"Day of Week\"] = day_ls_1.dt.day_name() #total_daily[\"Date\"].dt.day_name()\n",
    "# # combined_df.head()"
   ]
  },
  {
   "cell_type": "code",
   "execution_count": null,
   "metadata": {},
   "outputs": [],
   "source": [
    "# y=combined_df[\"Collision Count\"].values.reshape(-1, 1)\n",
    "# X=pd.get_dummies(combined_df[[\"Temp High\",\"Precipitation\",\"Day of Week\",\"Month\",\"Hour\"]])\n"
   ]
  },
  {
   "cell_type": "code",
   "execution_count": null,
   "metadata": {},
   "outputs": [],
   "source": [
    "# from sklearn.model_selection import train_test_split\n",
    "# X_train, X_test, y_train, y_test = train_test_split(X, y, random_state=42)\n"
   ]
  },
  {
   "cell_type": "code",
   "execution_count": null,
   "metadata": {},
   "outputs": [],
   "source": [
    "# from sklearn.linear_model import LinearRegression\n",
    "# model_2 = LinearRegression()\n",
    "# model_2.fit(X_train, y_train)"
   ]
  },
  {
   "cell_type": "code",
   "execution_count": null,
   "metadata": {},
   "outputs": [],
   "source": [
    "# from sklearn.metrics import mean_squared_error\n",
    "# predictions = model_2.predict(X_test)\n",
    "# MSE = mean_squared_error(y_test, predictions)\n",
    "# r2 = model_2.score(X_test, y_test)\n",
    "\n",
    "# print(f\"MSE: {MSE}, R2: {r2}\")"
   ]
  },
  {
   "cell_type": "markdown",
   "metadata": {},
   "source": [
    "# analysis on daily collision"
   ]
  },
  {
   "cell_type": "markdown",
   "metadata": {},
   "source": [
    "* a funcion to get the collision count everyday by given collision data frame\n",
    "* use for later analysis on different collision set"
   ]
  },
  {
   "cell_type": "code",
   "execution_count": 32,
   "metadata": {},
   "outputs": [],
   "source": [
    "def combine_fc (df,weather_df):\n",
    "    df_groupbyday = df.groupby(\"Date\")\n",
    "    daily_collision_df = pd.DataFrame(df_groupbyday[\"Year\"].count()).reset_index()\n",
    "    daily_collision_df=daily_collision_df.rename(columns={\"Year\" : \"Collision Count\"})\n",
    "    all_collision_weather = daily_collision_df.merge(weather_df,on=\"Date\",how=\"inner\")\n",
    "    return all_collision_weather"
   ]
  },
  {
   "cell_type": "code",
   "execution_count": 33,
   "metadata": {
    "scrolled": true
   },
   "outputs": [
    {
     "data": {
      "text/html": [
       "<div>\n",
       "<style scoped>\n",
       "    .dataframe tbody tr th:only-of-type {\n",
       "        vertical-align: middle;\n",
       "    }\n",
       "\n",
       "    .dataframe tbody tr th {\n",
       "        vertical-align: top;\n",
       "    }\n",
       "\n",
       "    .dataframe thead th {\n",
       "        text-align: right;\n",
       "    }\n",
       "</style>\n",
       "<table border=\"1\" class=\"dataframe\">\n",
       "  <thead>\n",
       "    <tr style=\"text-align: right;\">\n",
       "      <th></th>\n",
       "      <th>Date</th>\n",
       "      <th>Collision Count</th>\n",
       "      <th>Temp High</th>\n",
       "      <th>Precipitation</th>\n",
       "    </tr>\n",
       "  </thead>\n",
       "  <tbody>\n",
       "    <tr>\n",
       "      <th>0</th>\n",
       "      <td>2017-1-1</td>\n",
       "      <td>134</td>\n",
       "      <td>57.81</td>\n",
       "      <td>0.0035</td>\n",
       "    </tr>\n",
       "    <tr>\n",
       "      <th>1</th>\n",
       "      <td>2017-1-10</td>\n",
       "      <td>142</td>\n",
       "      <td>58.32</td>\n",
       "      <td>0.1440</td>\n",
       "    </tr>\n",
       "    <tr>\n",
       "      <th>2</th>\n",
       "      <td>2017-1-11</td>\n",
       "      <td>162</td>\n",
       "      <td>63.67</td>\n",
       "      <td>0.4245</td>\n",
       "    </tr>\n",
       "    <tr>\n",
       "      <th>3</th>\n",
       "      <td>2017-1-12</td>\n",
       "      <td>150</td>\n",
       "      <td>55.25</td>\n",
       "      <td>0.5770</td>\n",
       "    </tr>\n",
       "    <tr>\n",
       "      <th>4</th>\n",
       "      <td>2017-1-13</td>\n",
       "      <td>197</td>\n",
       "      <td>60.31</td>\n",
       "      <td>0.0085</td>\n",
       "    </tr>\n",
       "  </tbody>\n",
       "</table>\n",
       "</div>"
      ],
      "text/plain": [
       "        Date  Collision Count  Temp High  Precipitation\n",
       "0   2017-1-1              134      57.81         0.0035\n",
       "1  2017-1-10              142      58.32         0.1440\n",
       "2  2017-1-11              162      63.67         0.4245\n",
       "3  2017-1-12              150      55.25         0.5770\n",
       "4  2017-1-13              197      60.31         0.0085"
      ]
     },
     "execution_count": 33,
     "metadata": {},
     "output_type": "execute_result"
    }
   ],
   "source": [
    "daily_df = combine_fc(collision_data,weather_data)\n",
    "daily_df.head()"
   ]
  },
  {
   "cell_type": "code",
   "execution_count": 34,
   "metadata": {},
   "outputs": [
    {
     "data": {
      "text/html": [
       "<div>\n",
       "<style scoped>\n",
       "    .dataframe tbody tr th:only-of-type {\n",
       "        vertical-align: middle;\n",
       "    }\n",
       "\n",
       "    .dataframe tbody tr th {\n",
       "        vertical-align: top;\n",
       "    }\n",
       "\n",
       "    .dataframe thead th {\n",
       "        text-align: right;\n",
       "    }\n",
       "</style>\n",
       "<table border=\"1\" class=\"dataframe\">\n",
       "  <thead>\n",
       "    <tr style=\"text-align: right;\">\n",
       "      <th></th>\n",
       "      <th>Date</th>\n",
       "      <th>Collision Count</th>\n",
       "      <th>Temp High</th>\n",
       "      <th>Precipitation</th>\n",
       "      <th>Day of Week</th>\n",
       "    </tr>\n",
       "  </thead>\n",
       "  <tbody>\n",
       "    <tr>\n",
       "      <th>0</th>\n",
       "      <td>2017-1-1</td>\n",
       "      <td>134</td>\n",
       "      <td>57.81</td>\n",
       "      <td>0.0035</td>\n",
       "      <td>Sunday</td>\n",
       "    </tr>\n",
       "    <tr>\n",
       "      <th>1</th>\n",
       "      <td>2017-1-10</td>\n",
       "      <td>142</td>\n",
       "      <td>58.32</td>\n",
       "      <td>0.1440</td>\n",
       "      <td>Tuesday</td>\n",
       "    </tr>\n",
       "    <tr>\n",
       "      <th>2</th>\n",
       "      <td>2017-1-11</td>\n",
       "      <td>162</td>\n",
       "      <td>63.67</td>\n",
       "      <td>0.4245</td>\n",
       "      <td>Wednesday</td>\n",
       "    </tr>\n",
       "    <tr>\n",
       "      <th>3</th>\n",
       "      <td>2017-1-12</td>\n",
       "      <td>150</td>\n",
       "      <td>55.25</td>\n",
       "      <td>0.5770</td>\n",
       "      <td>Thursday</td>\n",
       "    </tr>\n",
       "    <tr>\n",
       "      <th>4</th>\n",
       "      <td>2017-1-13</td>\n",
       "      <td>197</td>\n",
       "      <td>60.31</td>\n",
       "      <td>0.0085</td>\n",
       "      <td>Friday</td>\n",
       "    </tr>\n",
       "  </tbody>\n",
       "</table>\n",
       "</div>"
      ],
      "text/plain": [
       "        Date  Collision Count  Temp High  Precipitation Day of Week\n",
       "0   2017-1-1              134      57.81         0.0035      Sunday\n",
       "1  2017-1-10              142      58.32         0.1440     Tuesday\n",
       "2  2017-1-11              162      63.67         0.4245   Wednesday\n",
       "3  2017-1-12              150      55.25         0.5770    Thursday\n",
       "4  2017-1-13              197      60.31         0.0085      Friday"
      ]
     },
     "execution_count": 34,
     "metadata": {},
     "output_type": "execute_result"
    }
   ],
   "source": [
    "day_ls_2 = pd.to_datetime(daily_df[\"Date\"])\n",
    "daily_df[\"Day of Week\"] = day_ls_2.dt.day_name()\n",
    "daily_df.head()"
   ]
  },
  {
   "cell_type": "code",
   "execution_count": 35,
   "metadata": {},
   "outputs": [
    {
     "data": {
      "text/plain": [
       "<matplotlib.collections.PathCollection at 0x1f3b65639e8>"
      ]
     },
     "execution_count": 35,
     "metadata": {},
     "output_type": "execute_result"
    },
    {
     "data": {
      "image/png": "[encoded data removed]",
      "text/plain": [
       "<Figure size 432x288 with 1 Axes>"
      ]
     },
     "metadata": {},
     "output_type": "display_data"
    }
   ],
   "source": [
    "plt.scatter(daily_df[\"Temp High\"],daily_df[\"Collision Count\"])"
   ]
  },
  {
   "cell_type": "markdown",
   "metadata": {},
   "source": [
    "* Remove rainy day"
   ]
  },
  {
   "cell_type": "code",
   "execution_count": 36,
   "metadata": {
    "scrolled": true
   },
   "outputs": [
    {
     "data": {
      "text/plain": [
       "<matplotlib.collections.PathCollection at 0x1f3b65f94e0>"
      ]
     },
     "execution_count": 36,
     "metadata": {},
     "output_type": "execute_result"
    },
    {
     "data": {
      "image/png": "[encoded data removed]",
      "text/plain": [
       "<Figure size 432x288 with 1 Axes>"
      ]
     },
     "metadata": {},
     "output_type": "display_data"
    }
   ],
   "source": [
    "day_norain_df = daily_df[daily_df[\"Precipitation\"]<=0.001]\n",
    "plt.scatter(day_norain_df[\"Temp High\"],day_norain_df[\"Collision Count\"])"
   ]
  },
  {
   "cell_type": "markdown",
   "metadata": {},
   "source": [
    "* Rainy day"
   ]
  },
  {
   "cell_type": "code",
   "execution_count": 37,
   "metadata": {
    "scrolled": true
   },
   "outputs": [
    {
     "data": {
      "text/plain": [
       "<matplotlib.collections.PathCollection at 0x1f3b668be10>"
      ]
     },
     "execution_count": 37,
     "metadata": {},
     "output_type": "execute_result"
    },
    {
     "data": {
      "image/png": "[encoded data removed]",
      "text/plain": [
       "<Figure size 432x288 with 1 Axes>"
      ]
     },
     "metadata": {},
     "output_type": "display_data"
    }
   ],
   "source": [
    "day_rain_df = daily_df[daily_df[\"Precipitation\"]>0.001]\n",
    "plt.scatter(day_norain_df[\"Temp High\"],day_norain_df[\"Collision Count\"])\n",
    "plt.scatter(day_rain_df[\"Temp High\"],day_rain_df[\"Collision Count\"],color=\"r\",alpha=0.5)"
   ]
  },
  {
   "cell_type": "code",
   "execution_count": 72,
   "metadata": {},
   "outputs": [],
   "source": [
    "def ave_fc (df):\n",
    "    temp_ls=[]\n",
    "    col_ave=[]\n",
    "    low_df = df[df[\"Temp High\"]<=59]\n",
    "    temp_ls.append(59)\n",
    "    col_ave.append(low_df[\"Collision Count\"].mean()) \n",
    "    for x in range(60,96):\n",
    "        loop_df = df[df[\"Temp High\"]<=x]\n",
    "        loop_df = loop_df[loop_df[\"Temp High\"]>x-1]\n",
    "        temp_ls.append(x)\n",
    "        col_ave.append(loop_df[\"Collision Count\"].mean())\n",
    "    high_df = df[df[\"Temp High\"]>95]\n",
    "    temp_ls.append(96)\n",
    "    col_ave.append(high_df[\"Collision Count\"].mean()) \n",
    "    return temp_ls, col_ave"
   ]
  },
  {
   "cell_type": "code",
   "execution_count": 73,
   "metadata": {},
   "outputs": [],
   "source": [
    "temp_t1, col_t1 = ave_fc(daily_df)"
   ]
  },
  {
   "cell_type": "code",
   "execution_count": 74,
   "metadata": {},
   "outputs": [
    {
     "data": {
      "text/plain": [
       "<matplotlib.collections.PathCollection at 0x1f3b6daca58>"
      ]
     },
     "execution_count": 74,
     "metadata": {},
     "output_type": "execute_result"
    },
    {
     "data": {
      "image/png": "[encoded data removed]",
      "text/plain": [
       "<Figure size 432x288 with 1 Axes>"
      ]
     },
     "metadata": {},
     "output_type": "display_data"
    }
   ],
   "source": [
    "plt.scatter(temp_t1,col_t1)"
   ]
  },
  {
   "cell_type": "markdown",
   "metadata": {},
   "source": [
    "* Remove rainy day"
   ]
  },
  {
   "cell_type": "code",
   "execution_count": 75,
   "metadata": {},
   "outputs": [],
   "source": [
    "temp_t2, col_t2 = ave_fc(day_norain_df)"
   ]
  },
  {
   "cell_type": "code",
   "execution_count": 76,
   "metadata": {
    "scrolled": false
   },
   "outputs": [
    {
     "data": {
      "text/plain": [
       "<matplotlib.collections.PathCollection at 0x1f3b6e115c0>"
      ]
     },
     "execution_count": 76,
     "metadata": {},
     "output_type": "execute_result"
    },
    {
     "data": {
      "image/png": "[encoded data removed]",
      "text/plain": [
       "<Figure size 432x288 with 1 Axes>"
      ]
     },
     "metadata": {},
     "output_type": "display_data"
    }
   ],
   "source": [
    "plt.scatter(temp_t2,col_t2)"
   ]
  },
  {
   "cell_type": "code",
   "execution_count": 44,
   "metadata": {},
   "outputs": [],
   "source": [
    "model_line_1 = LinearRegression()"
   ]
  },
  {
   "cell_type": "code",
   "execution_count": 45,
   "metadata": {},
   "outputs": [],
   "source": [
    "X_1 = pd.DataFrame({\"Temp\":temp_t1}).values.reshape(-1, 1)\n",
    "y_1 = pd.DataFrame({\"Ave_Col\":col_t1}).values.reshape(-1, 1)"
   ]
  },
  {
   "cell_type": "code",
   "execution_count": 46,
   "metadata": {
    "scrolled": true
   },
   "outputs": [
    {
     "data": {
      "text/plain": [
       "LinearRegression(copy_X=True, fit_intercept=True, n_jobs=1, normalize=False)"
      ]
     },
     "execution_count": 46,
     "metadata": {},
     "output_type": "execute_result"
    }
   ],
   "source": [
    "model_line_1.fit(X_1, y_1)"
   ]
  },
  {
   "cell_type": "code",
   "execution_count": 47,
   "metadata": {},
   "outputs": [
    {
     "name": "stdout",
     "output_type": "stream",
     "text": [
      "Coef : [[0.27227548]]\n",
      "Intercept : [136.31981128]\n"
     ]
    }
   ],
   "source": [
    "print (f\"Coef : {model_line_1.coef_}\")\n",
    "print (f\"Intercept : {model_line_1.intercept_}\")"
   ]
  },
  {
   "cell_type": "code",
   "execution_count": 50,
   "metadata": {},
   "outputs": [],
   "source": [
    "# so linear relationship is y = 0.27227548 * x + 136.31981128\n",
    "x_min = X_1.min()\n",
    "x_max = X_1.max()\n",
    "y_min_est = 0.27227548 * x_min + 136.31981128\n",
    "y_max_est = 0.27227548 * x_max + 136.31981128"
   ]
  },
  {
   "cell_type": "code",
   "execution_count": 51,
   "metadata": {},
   "outputs": [
    {
     "data": {
      "text/plain": [
       "[<matplotlib.lines.Line2D at 0x1f3b67dadd8>]"
      ]
     },
     "execution_count": 51,
     "metadata": {},
     "output_type": "execute_result"
    },
    {
     "data": {
      "image/png": "[encoded data removed]",
      "text/plain": [
       "<Figure size 432x288 with 1 Axes>"
      ]
     },
     "metadata": {},
     "output_type": "display_data"
    }
   ],
   "source": [
    "plt.scatter(temp_t1,col_t1)\n",
    "plt.plot([x_min,x_max],[y_min_est,y_max_est],color='red')"
   ]
  },
  {
   "cell_type": "code",
   "execution_count": 52,
   "metadata": {
    "scrolled": true
   },
   "outputs": [
    {
     "data": {
      "text/html": [
       "<div>\n",
       "<style scoped>\n",
       "    .dataframe tbody tr th:only-of-type {\n",
       "        vertical-align: middle;\n",
       "    }\n",
       "\n",
       "    .dataframe tbody tr th {\n",
       "        vertical-align: top;\n",
       "    }\n",
       "\n",
       "    .dataframe thead th {\n",
       "        text-align: right;\n",
       "    }\n",
       "</style>\n",
       "<table border=\"1\" class=\"dataframe\">\n",
       "  <thead>\n",
       "    <tr style=\"text-align: right;\">\n",
       "      <th></th>\n",
       "      <th>High Temp</th>\n",
       "      <th>Real Ave. Collision</th>\n",
       "      <th>Estimate Collision</th>\n",
       "      <th>Error</th>\n",
       "    </tr>\n",
       "  </thead>\n",
       "  <tbody>\n",
       "    <tr>\n",
       "      <th>0</th>\n",
       "      <td>59</td>\n",
       "      <td>148.625000</td>\n",
       "      <td>152.384065</td>\n",
       "      <td>-3.759065</td>\n",
       "    </tr>\n",
       "    <tr>\n",
       "      <th>1</th>\n",
       "      <td>60</td>\n",
       "      <td>158.090909</td>\n",
       "      <td>152.656340</td>\n",
       "      <td>5.434569</td>\n",
       "    </tr>\n",
       "    <tr>\n",
       "      <th>2</th>\n",
       "      <td>61</td>\n",
       "      <td>169.166667</td>\n",
       "      <td>152.928616</td>\n",
       "      <td>16.238051</td>\n",
       "    </tr>\n",
       "    <tr>\n",
       "      <th>3</th>\n",
       "      <td>62</td>\n",
       "      <td>150.368421</td>\n",
       "      <td>153.200891</td>\n",
       "      <td>-2.832470</td>\n",
       "    </tr>\n",
       "    <tr>\n",
       "      <th>4</th>\n",
       "      <td>63</td>\n",
       "      <td>151.187500</td>\n",
       "      <td>153.473167</td>\n",
       "      <td>-2.285667</td>\n",
       "    </tr>\n",
       "  </tbody>\n",
       "</table>\n",
       "</div>"
      ],
      "text/plain": [
       "   High Temp  Real Ave. Collision  Estimate Collision      Error\n",
       "0         59           148.625000          152.384065  -3.759065\n",
       "1         60           158.090909          152.656340   5.434569\n",
       "2         61           169.166667          152.928616  16.238051\n",
       "3         62           150.368421          153.200891  -2.832470\n",
       "4         63           151.187500          153.473167  -2.285667"
      ]
     },
     "execution_count": 52,
     "metadata": {},
     "output_type": "execute_result"
    }
   ],
   "source": [
    "\n",
    "est_ls_1 = []\n",
    "\n",
    "for x in temp_t1:\n",
    "\n",
    "    est_ls_1.append(0.27227548 * x + 136.31981128)\n",
    "\n",
    "summary_df = pd.DataFrame({\"High Temp\":temp_t1,\n",
    "                           \"Real Ave. Collision\":col_t1,\n",
    "                           \"Estimate Collision\":est_ls_1 })\n",
    "summary_df[\"Error\"] = summary_df[\"Real Ave. Collision\"]-summary_df[\"Estimate Collision\"]\n",
    "summary_df.head()"
   ]
  },
  {
   "cell_type": "markdown",
   "metadata": {},
   "source": [
    "* no rain day"
   ]
  },
  {
   "cell_type": "code",
   "execution_count": 54,
   "metadata": {},
   "outputs": [
    {
     "name": "stdout",
     "output_type": "stream",
     "text": [
      "Coef : [[0.55526583]]\n",
      "Intercept : [111.60408324]\n"
     ]
    }
   ],
   "source": [
    "model_line_2 = LinearRegression()\n",
    "X_2 = pd.DataFrame({\"Temp\":temp_t2}).values.reshape(-1, 1)\n",
    "y_2 = pd.DataFrame({\"Ave_Col\":col_t2}).values.reshape(-1, 1)\n",
    "model_line_2.fit(X_2, y_2)\n",
    "print (f\"Coef : {model_line_2.coef_}\")\n",
    "print (f\"Intercept : {model_line_2.intercept_}\")"
   ]
  },
  {
   "cell_type": "code",
   "execution_count": 55,
   "metadata": {},
   "outputs": [
    {
     "data": {
      "text/plain": [
       "[<matplotlib.lines.Line2D at 0x1f3b68356d8>]"
      ]
     },
     "execution_count": 55,
     "metadata": {},
     "output_type": "execute_result"
    },
    {
     "data": {
      "image/png": "[encoded data removed]",
      "text/plain": [
       "<Figure size 432x288 with 1 Axes>"
      ]
     },
     "metadata": {},
     "output_type": "display_data"
    }
   ],
   "source": [
    "# so linear relationship is y = 0.55526583 * x + 111.60408324\n",
    "x_min_2 = X_2.min()\n",
    "x_max_2 = X_2.max()\n",
    "y_min_est_2 = 0.55526583 * x_min + 111.60408324\n",
    "y_max_est_2 = 0.55526583 * x_max + 111.60408324\n",
    "plt.scatter(temp_t2,col_t2)\n",
    "plt.plot([x_min_2,x_max_2],[y_min_est_2,y_max_est_2],color='red')"
   ]
  },
  {
   "cell_type": "code",
   "execution_count": 56,
   "metadata": {},
   "outputs": [
    {
     "data": {
      "text/html": [
       "<div>\n",
       "<style scoped>\n",
       "    .dataframe tbody tr th:only-of-type {\n",
       "        vertical-align: middle;\n",
       "    }\n",
       "\n",
       "    .dataframe tbody tr th {\n",
       "        vertical-align: top;\n",
       "    }\n",
       "\n",
       "    .dataframe thead th {\n",
       "        text-align: right;\n",
       "    }\n",
       "</style>\n",
       "<table border=\"1\" class=\"dataframe\">\n",
       "  <thead>\n",
       "    <tr style=\"text-align: right;\">\n",
       "      <th></th>\n",
       "      <th>High Temp</th>\n",
       "      <th>Real Ave. Collision</th>\n",
       "      <th>Estimate Collision</th>\n",
       "      <th>Error</th>\n",
       "    </tr>\n",
       "  </thead>\n",
       "  <tbody>\n",
       "    <tr>\n",
       "      <th>0</th>\n",
       "      <td>59</td>\n",
       "      <td>114.500000</td>\n",
       "      <td>144.364767</td>\n",
       "      <td>-29.864767</td>\n",
       "    </tr>\n",
       "    <tr>\n",
       "      <th>1</th>\n",
       "      <td>60</td>\n",
       "      <td>154.750000</td>\n",
       "      <td>144.920033</td>\n",
       "      <td>9.829967</td>\n",
       "    </tr>\n",
       "    <tr>\n",
       "      <th>2</th>\n",
       "      <td>61</td>\n",
       "      <td>164.000000</td>\n",
       "      <td>145.475299</td>\n",
       "      <td>18.524701</td>\n",
       "    </tr>\n",
       "    <tr>\n",
       "      <th>3</th>\n",
       "      <td>62</td>\n",
       "      <td>144.714286</td>\n",
       "      <td>146.030565</td>\n",
       "      <td>-1.316279</td>\n",
       "    </tr>\n",
       "    <tr>\n",
       "      <th>4</th>\n",
       "      <td>63</td>\n",
       "      <td>145.142857</td>\n",
       "      <td>146.585831</td>\n",
       "      <td>-1.442973</td>\n",
       "    </tr>\n",
       "  </tbody>\n",
       "</table>\n",
       "</div>"
      ],
      "text/plain": [
       "   High Temp  Real Ave. Collision  Estimate Collision      Error\n",
       "0         59           114.500000          144.364767 -29.864767\n",
       "1         60           154.750000          144.920033   9.829967\n",
       "2         61           164.000000          145.475299  18.524701\n",
       "3         62           144.714286          146.030565  -1.316279\n",
       "4         63           145.142857          146.585831  -1.442973"
      ]
     },
     "execution_count": 56,
     "metadata": {},
     "output_type": "execute_result"
    }
   ],
   "source": [
    "est_ls_2 = []\n",
    "\n",
    "for x in temp_t2:\n",
    "\n",
    "    est_ls_2.append(0.55526583 * x + 111.60408324)\n",
    "\n",
    "summary_df_2 = pd.DataFrame({\"High Temp\":temp_t2,\n",
    "                           \"Real Ave. Collision\":col_t2,\n",
    "                           \"Estimate Collision\":est_ls_2 })\n",
    "summary_df_2[\"Error\"] = summary_df_2[\"Real Ave. Collision\"]-summary_df_2[\"Estimate Collision\"]\n",
    "summary_df_2.head()"
   ]
  },
  {
   "cell_type": "code",
   "execution_count": null,
   "metadata": {},
   "outputs": [],
   "source": []
  }
 ],
 "metadata": {
  "kernelspec": {
   "display_name": "Python [conda env:DanielData]",
   "language": "python",
   "name": "conda-env-DanielData-py"
  },
  "language_info": {
   "codemirror_mode": {
    "name": "ipython",
    "version": 3
   },
   "file_extension": ".py",
   "mimetype": "text/x-python",
   "name": "python",
   "nbconvert_exporter": "python",
   "pygments_lexer": "ipython3",
   "version": "3.6.5"
  }
 },
 "nbformat": 4,
 "nbformat_minor": 2
}
